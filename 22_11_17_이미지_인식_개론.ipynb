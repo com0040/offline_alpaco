{
  "nbformat": 4,
  "nbformat_minor": 0,
  "metadata": {
    "colab": {
      "provenance": [],
      "toc_visible": true,
      "authorship_tag": "ABX9TyOPJELhkA8D0Uk0euiPPyeJ",
      "include_colab_link": true
    },
    "kernelspec": {
      "name": "python3",
      "display_name": "Python 3"
    },
    "language_info": {
      "name": "python"
    }
  },
  "cells": [
    {
      "cell_type": "markdown",
      "metadata": {
        "id": "view-in-github",
        "colab_type": "text"
      },
      "source": [
        "<a href=\"https://colab.research.google.com/github/com0040/offline_alpaco/blob/main/22_11_17_%EC%9D%B4%EB%AF%B8%EC%A7%80_%EC%9D%B8%EC%8B%9D_%EA%B0%9C%EB%A1%A0.ipynb\" target=\"_parent\"><img src=\"https://colab.research.google.com/assets/colab-badge.svg\" alt=\"Open In Colab\"/></a>"
      ]
    },
    {
      "cell_type": "markdown",
      "source": [
        "# 이미지 인식\n",
        "\n"
      ],
      "metadata": {
        "id": "kc_aSi0MCZsz"
      }
    },
    {
      "cell_type": "markdown",
      "source": [
        "\n",
        "01. 이미지 인식 개론\n",
        "2. 이미지 전처리 \n",
        "3. 이미지 증강\n",
        "4. 머신러닝 개론\n",
        "5. 딥러닝\n",
        "6. 이미지 분류\n",
        "7. 논문 리뷰"
      ],
      "metadata": {
        "id": "Sn1qEUF9C6RB"
      }
    },
    {
      "cell_type": "markdown",
      "source": [
        "## 주말 복습 - 월(이미지 : 전처리)"
      ],
      "metadata": {
        "id": "UVQ8x2T5C7fq"
      }
    },
    {
      "cell_type": "markdown",
      "source": [
        "## 이미지 인식?\n",
        "\n"
      ],
      "metadata": {
        "id": "AP_DIINfDGkJ"
      }
    },
    {
      "cell_type": "markdown",
      "source": [
        "사람 - 이미지 인식\n",
        "\n",
        "기계 - 모방 -> 우리의 테스크\n"
      ],
      "metadata": {
        "id": "cvdnIIx3DJxZ"
      }
    },
    {
      "cell_type": "markdown",
      "source": [
        "### 컴퓨터에게 눈이 달렸다면\n",
        "\n",
        "우리의 인식방법 - 테두리 / 색 / 질감 (생물학적 연구)\n",
        "\n",
        "- 이미지 정보를 받아들일때 <-> 텍스트(시간적 순서를 같이)\n",
        "\n",
        "- 공간정보를 같이 받아들인다. \n",
        "\n",
        "    - ex) 리모콘의 픽셀이 모여있다고 인식 <-> 흩어져 \n",
        "\n",
        "오? -> 근데 생각보다 어렵다. 컴퓨터에게 알려주기"
      ],
      "metadata": {
        "id": "6mlujYFJDPBH"
      }
    },
    {
      "cell_type": "markdown",
      "source": [
        "### 이전의 연구들\n",
        "\n",
        "동물의 시각정보 모방 - 인공 신경망 \n",
        "\n",
        "치명적 단점 -> 통계적인 방법이 더 정확\n",
        "\n",
        "극복해 내면서 -> 통계방법보다 정확\n",
        "\n",
        "2010년이 되서야 최고성능"
      ],
      "metadata": {
        "id": "vGslT48EDSWl"
      }
    },
    {
      "cell_type": "markdown",
      "source": [
        "### 어떻게 인식을 시킬건데\n"
      ],
      "metadata": {
        "id": "dsb7n9YuEvJV"
      }
    },
    {
      "cell_type": "markdown",
      "source": [
        "텍스트 -> 숫자로\n",
        "\n",
        "이미지 -> 어떻게? 숫자로?\n",
        "\n",
        "---\n",
        "\n",
        "이미지는 쉽다 <-> 상대적으로 \n",
        "\n",
        "0-255(흑백) / 색 = 알쥐비\n",
        "\n",
        "---\n",
        "\n",
        "라벨? 은 어떻게? \n",
        "\n",
        "- 각각에 라벨 인코딩을 해준다.\n",
        "\n",
        "- 신발 = 1, 바지 = 2 => 원핫 인코딩\n",
        "\n",
        "로지스틱 예시\n",
        "- 이해했는가 -> 멀타레아블(해당없다. 신발이면서 장갑)\n",
        "\n",
        "    예측값으로 각각의 확률로 나온다.\n",
        "\n",
        "    10개의 라벨 - 10개의 확률값\n",
        "\n",
        "숫자로 바꿧으니 - 머신러닝에 넣을 수 있다.\n",
        "\n",
        "- 라벨도 달고\n",
        "\n",
        "휴먼러닝 x - 장벽"
      ],
      "metadata": {
        "id": "HATPmhHqEy3P"
      }
    },
    {
      "cell_type": "markdown",
      "source": [
        "## 머신러닝 개론\n",
        "\n",
        "- 상관관계를 학습\n",
        "\n",
        "이미지와 라벨과의 관계를 찾아라.\n",
        "\n",
        "- hyipothisis - 정해주는게 0단계 를 딥러닝으로 해준다.\n",
        "\n",
        "2010 - > 1등 / 논문 -> 15년 사람을 이김\n",
        "\n",
        "인공신경망 (딥러닝) - 이름이 별로다.\n",
        "\n",
        "딥러닝 -> 깊어서 ㅎ\n",
        "\n",
        "로지스틱 -> 입력 -> 선형 -> 출력\n",
        "\n",
        "---\n",
        "\n",
        "CNN - 배우긴 해야함 / transfomer가 이기고 있지만\n",
        "\n",
        "이미지 - CNN\n",
        "\n",
        "택스트(시계열) - RNN\n",
        "\n",
        "CNN - 택스트도 RNN 이김\n",
        "\n",
        "transfomer - 이젠 못 이김.\n",
        "\n"
      ],
      "metadata": {
        "id": "GBSeP8PLHnPw"
      }
    },
    {
      "cell_type": "markdown",
      "source": [],
      "metadata": {
        "id": "VxcvhYaSQg3-"
      }
    }
  ]
}