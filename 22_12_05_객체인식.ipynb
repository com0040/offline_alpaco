{
  "nbformat": 4,
  "nbformat_minor": 0,
  "metadata": {
    "colab": {
      "provenance": [],
      "toc_visible": true,
      "authorship_tag": "ABX9TyN10dTfhZm0e7hZ4YicqTwh",
      "include_colab_link": true
    },
    "kernelspec": {
      "name": "python3",
      "display_name": "Python 3"
    },
    "language_info": {
      "name": "python"
    }
  },
  "cells": [
    {
      "cell_type": "markdown",
      "metadata": {
        "id": "view-in-github",
        "colab_type": "text"
      },
      "source": [
        "<a href=\"https://colab.research.google.com/github/com0040/offline_alpaco/blob/main/22_12_05_%EA%B0%9D%EC%B2%B4%EC%9D%B8%EC%8B%9D.ipynb\" target=\"_parent\"><img src=\"https://colab.research.google.com/assets/colab-badge.svg\" alt=\"Open In Colab\"/></a>"
      ]
    },
    {
      "cell_type": "markdown",
      "source": [
        "# 객체인식"
      ],
      "metadata": {
        "id": "PGC5fxr-dxky"
      }
    },
    {
      "cell_type": "markdown",
      "source": [
        "1. 데이터셋은?\n",
        "\n",
        "2. 결과 값은 어떻게 나오는가\n",
        "\n",
        "3. "
      ],
      "metadata": {
        "id": "9JyGGNUlwfad"
      }
    },
    {
      "cell_type": "markdown",
      "source": [
        "## 객체란?"
      ],
      "metadata": {
        "id": "KPgOGWFYxAea"
      }
    },
    {
      "cell_type": "markdown",
      "source": [
        "이미지 안에 규정할 수 있는 사물 사람\n",
        "\n",
        "배경 vs 객체\n",
        "\n",
        "객체인식은 어떤 객체가 어디있는지 알아내는 것이다.\n",
        "\n",
        "- 티비 옆 사람 옆 창문\n",
        "\n",
        "1. 어떤 객체가 -> 라벨\n",
        "\n",
        "2. 어디있는가 -> 위치정보"
      ],
      "metadata": {
        "id": "QBUu6mGRxCV2"
      }
    },
    {
      "cell_type": "markdown",
      "source": [
        "학습 data는 객체 위치와 라벨을 같이 줘야한다."
      ],
      "metadata": {
        "id": "mnavQs8UyGUt"
      }
    },
    {
      "cell_type": "markdown",
      "source": [
        "### 이미지 예측 대신 객체 인식"
      ],
      "metadata": {
        "id": "E9kGZIxvymLx"
      }
    },
    {
      "cell_type": "markdown",
      "source": [
        "- 이미지 인식 모델에서 객체인식으로 전환방법 : 접근법, 빌드업\n",
        "\n",
        "위치정보가 중요 - 어떤 객체 / 어디?\n",
        "\n",
        "x = 이미지\n",
        "\n",
        "y = 객체, 위치\n",
        "\n",
        "이미지에서 객체 픽셀에 라벨을 달면 안돼나 ->\n",
        "\n",
        "-> 모자기(어그맨테이션 방법)\n",
        "\n",
        "\n",
        "\n"
      ],
      "metadata": {
        "id": "Uu8n3Am3ypwB"
      }
    },
    {
      "cell_type": "markdown",
      "source": [
        "# 오브젝트 로컬리제이션"
      ],
      "metadata": {
        "id": "mU4g9kpmCOIl"
      }
    },
    {
      "cell_type": "markdown",
      "source": [
        "## 객체를 하나만?"
      ],
      "metadata": {
        "id": "n0dOItFp6S-s"
      }
    },
    {
      "cell_type": "markdown",
      "source": [
        "무조건 이미지에 객체하나만 받을거야 = 이미지 분류(위치정보 x)\n",
        "\n",
        "이름은 clasification + localization 으로 부른다."
      ],
      "metadata": {
        "id": "FRGMYcpQ6VF_"
      }
    },
    {
      "cell_type": "markdown",
      "source": [
        "## 대체로 그렇지 않다"
      ],
      "metadata": {
        "id": "kGif9knU6yRr"
      }
    },
    {
      "cell_type": "markdown",
      "source": [
        "라벨과 위치정보까지 들어오는 경우가 많다 - 위치정보는 카테고리컬 하지 않다\n",
        "\n",
        "그렇지만 CNN을 사용하는 것은 괜찮다.\n",
        "\n",
        "왜냐면 위치정보를 반영한 모델이기 때문이다.정답을 라벨 - 위치 이차이\n",
        "\n"
      ],
      "metadata": {
        "id": "Dzog5DWI61Dg"
      }
    },
    {
      "cell_type": "markdown",
      "source": [
        "## 소프트맥스 안쓰면 됀다."
      ],
      "metadata": {
        "id": "tTpIq2HT8xcJ"
      }
    },
    {
      "cell_type": "markdown",
      "source": [
        "라벨과 위치를 같이 예측해야한다.\n",
        "\n",
        "사본(피처맵) = 더 잘 예측하기 위한 방법이다.\n",
        "\n",
        "라벨이 틀리면 라벨에 오차를 주고\n",
        "\n",
        "위치가 틀리면 위치를 갱신"
      ],
      "metadata": {
        "id": "jriFbryZ80Uu"
      }
    },
    {
      "cell_type": "markdown",
      "source": [
        "## 위치를 어떻게 표기할 것인가."
      ],
      "metadata": {
        "id": "fJcwTpL79ibF"
      }
    },
    {
      "cell_type": "markdown",
      "source": [
        "원점잡기 - 좌측 상단 or 중앙\n",
        "\n",
        "아니 그렇게하면 크기는?\n",
        "\n",
        "중심과 높이 너비 = 바운딩 박스로 잡자.(타당)\n",
        "\n",
        "\n",
        "- 해석 : 라벨을 틀린건가 / 바운딩박스를 잘못 예측한건가 : 중요"
      ],
      "metadata": {
        "id": "Dy-8D7vZ9wLy"
      }
    },
    {
      "cell_type": "markdown",
      "source": [
        "## 두가지"
      ],
      "metadata": {
        "id": "2_E5QBoVBdY9"
      }
    },
    {
      "cell_type": "markdown",
      "source": [
        "1) 어떻게 이미지 라벨 대신 객체의 라벨로 바꿀 것인가\n",
        "\n",
        "- 단일객체이기때문에 쉽게 해결\n",
        "\n",
        "2) 위치정보는?\n",
        "\n",
        "- 바운딩박스의 x y w h 좌표\n",
        "\n"
      ],
      "metadata": {
        "id": "fCQRzhcdB3hn"
      }
    },
    {
      "cell_type": "markdown",
      "source": [
        "## 이미지에 들어오는 객체가"
      ],
      "metadata": {
        "id": "uMjxWTWACfxv"
      }
    },
    {
      "cell_type": "markdown",
      "source": [
        "여러개라면 오브젝트 로컬리제이션 모델은 한계다.\n",
        "\n",
        "- 실용적이지 못하다."
      ],
      "metadata": {
        "id": "WIJzuY_sCjbT"
      }
    },
    {
      "cell_type": "markdown",
      "source": [
        "# 그래서 나온게 1) Object Detection 2) Image segmantation"
      ],
      "metadata": {
        "id": "FW-R79S3C9J1"
      }
    },
    {
      "cell_type": "markdown",
      "source": [
        "1. Object Detection\n",
        "\n",
        "2. Image segmantation\n",
        "\n",
        "때가 다르다.\n",
        "\n"
      ],
      "metadata": {
        "id": "yDVLQJxyDMwN"
      }
    },
    {
      "cell_type": "markdown",
      "source": [
        "## 활용분야"
      ],
      "metadata": {
        "id": "QORsM8T6IiHx"
      }
    },
    {
      "cell_type": "markdown",
      "source": [
        "불량검출, OCR, CCTV 분석, 자율주행, 결함탐지"
      ],
      "metadata": {
        "id": "_EbID1L-IkNE"
      }
    },
    {
      "cell_type": "markdown",
      "source": [
        "## 데이터 수집"
      ],
      "metadata": {
        "id": "kCO7lCRCKIiT"
      }
    },
    {
      "cell_type": "markdown",
      "source": [
        "json\n",
        "\n",
        "폴리곤 -> 최대 최소 구해서 박스 구할 수 있다."
      ],
      "metadata": {
        "id": "Pk0Eokh7KMnF"
      }
    },
    {
      "cell_type": "markdown",
      "source": [
        "# 계산복잡도 어마어마"
      ],
      "metadata": {
        "id": "FqMhOeFjLWyD"
      }
    },
    {
      "cell_type": "markdown",
      "source": [
        "걸식의 RCNN\n",
        "\n",
        "- 메인아이디어 무엇?\n",
        "\n",
        "- 로우레벨큐 - 촉감 색깔 밝기로 객체가 있을만한 곳을 거른다. 2000개 나옴\n",
        "\n",
        "- 하나의 이미지에 평균객체수 -1.1개 \n",
        "\n",
        "- 계산은 가능하게 했다.알렉스넷 느낌"
      ],
      "metadata": {
        "id": "uL9Hfb4DK6Ne"
      }
    }
  ]
}