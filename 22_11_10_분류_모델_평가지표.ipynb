{
  "nbformat": 4,
  "nbformat_minor": 0,
  "metadata": {
    "colab": {
      "provenance": [],
      "authorship_tag": "ABX9TyOjh94+CQJDIQTR4Pt07Kur",
      "include_colab_link": true
    },
    "kernelspec": {
      "name": "python3",
      "display_name": "Python 3"
    },
    "language_info": {
      "name": "python"
    }
  },
  "cells": [
    {
      "cell_type": "markdown",
      "metadata": {
        "id": "view-in-github",
        "colab_type": "text"
      },
      "source": [
        "<a href=\"https://colab.research.google.com/github/com0040/offline_alpaco/blob/main/22_11_10_%EB%B6%84%EB%A5%98_%EB%AA%A8%EB%8D%B8_%ED%8F%89%EA%B0%80%EC%A7%80%ED%91%9C.ipynb\" target=\"_parent\"><img src=\"https://colab.research.google.com/assets/colab-badge.svg\" alt=\"Open In Colab\"/></a>"
      ]
    },
    {
      "cell_type": "markdown",
      "source": [
        "1) 머신러닝? \n",
        "\n",
        "2) 어떻게 구현?\n",
        "\n",
        "3) 성능?\n",
        "\n",
        "4) 평가지표?"
      ],
      "metadata": {
        "id": "xqtZJDmnz5vk"
      }
    },
    {
      "cell_type": "markdown",
      "source": [
        "# 평가지표"
      ],
      "metadata": {
        "id": "LmXfZjPrz25I"
      }
    },
    {
      "cell_type": "markdown",
      "source": [
        "정확도 = 평가지표?\n",
        "\n",
        "- 전체 중에 몇 개 맞췄어?\n",
        "\n",
        "100명중 99명이 코로나인데 - 정확도 99일때 \n",
        "\n",
        "- 죄다 코로나라고 해도 99퍼 정확도? -> 정확도는 평가지표가 안되는 거구나!\n",
        "\n",
        "❗ 데이터 셋이 임벨런스 할 때에\n",
        "\n",
        "- 맹점 -> 암환잔데 암이라고 판단받은 경우\n",
        "\n",
        "|||예측클라스(Pridicted Calss)||\n",
        "|---|---|---|---|\n",
        "| ||Negative(0)|Positive(1)|\n",
        "|실제클라스|Negative(0)|TN|FP|\n",
        "||Positive(1)|FN|TP|"
      ],
      "metadata": {
        "id": "OLNZggof0Gn1"
      }
    },
    {
      "cell_type": "markdown",
      "source": [],
      "metadata": {
        "id": "e5JynZ_z4B9j"
      }
    }
  ]
}