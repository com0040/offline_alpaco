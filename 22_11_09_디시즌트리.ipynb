{
  "nbformat": 4,
  "nbformat_minor": 0,
  "metadata": {
    "colab": {
      "provenance": [],
      "authorship_tag": "ABX9TyOm0CgfwLvmhdc9tQquUyvs",
      "include_colab_link": true
    },
    "kernelspec": {
      "name": "python3",
      "display_name": "Python 3"
    },
    "language_info": {
      "name": "python"
    }
  },
  "cells": [
    {
      "cell_type": "markdown",
      "metadata": {
        "id": "view-in-github",
        "colab_type": "text"
      },
      "source": [
        "<a href=\"https://colab.research.google.com/github/com0040/offline_alpaco/blob/main/22_11_09_%EB%94%94%EC%8B%9C%EC%A6%8C%ED%8A%B8%EB%A6%AC.ipynb\" target=\"_parent\"><img src=\"https://colab.research.google.com/assets/colab-badge.svg\" alt=\"Open In Colab\"/></a>"
      ]
    },
    {
      "cell_type": "markdown",
      "source": [
        "### Decision Tree"
      ],
      "metadata": {
        "id": "D8NDCbB8nGY7"
      }
    },
    {
      "cell_type": "markdown",
      "source": [
        "스무고개와 비슷하다\n",
        "\n",
        "- 피처값 중에 질문한다. (실제와 다르다)\n",
        "\n",
        "좋은 질문의 기준\n",
        "\n",
        "1. 예측하고자 하는 목표와 관련된 질문\n",
        "\n",
        "2. 정보 획득량 ⬆\n",
        "\n",
        "\n",
        "나쁜 질문\n",
        "\n",
        "1. 중립적인 단어"
      ],
      "metadata": {
        "id": "mQLemwvknoZ8"
      }
    },
    {
      "cell_type": "markdown",
      "source": [
        "질문은 한 번에 하나만 가능하다 -> 이후에 설명\n",
        "\n",
        "- 목표 -> 호모 지니어스 한 상태까지 가는 것\n",
        "\n",
        "- 학습? -> 좋은 질문을 고르는 것이다.\n",
        "\n",
        "계산을 해봐야 알겠는데?? (정보획득량)\n",
        "\n",
        "1. 엔트로피(Entropy) -> 불순도 : \n",
        "\n",
        "2. 지니(Gini) 계수"
      ],
      "metadata": {
        "id": "D4CaEEsXp9Co"
      }
    },
    {
      "cell_type": "markdown",
      "source": [
        "### 질문하기 전 -> 불순도 ⬆\n",
        "\n",
        "질문 후의 불순도를 계산하면 좋은 질문인지 알 수 있게되는 것이다.!!\n",
        "\n",
        "질문마다 '엔트로피'를 계산 ~!\n",
        "\n",
        "$ \\frac {min}{q} Entropy $"
      ],
      "metadata": {
        "id": "PNCLAucttBAQ"
      }
    },
    {
      "cell_type": "markdown",
      "source": [
        "Decision Tree 는 Entropy가 낮은 질문 찾기\n",
        "\n",
        "머신러닝은 코스트가 낮은 웨이트 찾기 -> 같은 맥락\n",
        "\n",
        "---\n",
        "\n",
        "코스트에 대한 웨이트의 기울기를 업데이트 ( 머신러닝)\n",
        "\n",
        "- 질문은 수치가 아니어서 엔트로피에 대한 기울기를 구할 수 없다.\n",
        "\n",
        "던질 수 있는 질문들을 다 해본다 (for문)\n",
        "\n",
        "- 구간이 없이 다 할 수는 없다(너무 많아짐)\n",
        "\n",
        "- 그렇게 찾을 수 있다. (구간은 자동으로 정해서 돌아간다)\n",
        "\n",
        "- 피처만 정해주면 된다."
      ],
      "metadata": {
        "id": "gi262JIYySAr"
      }
    },
    {
      "cell_type": "markdown",
      "source": [
        "### 질문은 하나의 피처에 대해서만\n",
        "\n",
        "축에 수직인 경계선 (대각 X)\n",
        "\n",
        "![image.png](data:image/png;base64,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)"
      ],
      "metadata": {
        "id": "zFmJSfYP0LQw"
      }
    },
    {
      "cell_type": "markdown",
      "source": [
        "x 축 나이 y축 요금 \n",
        "\n",
        "대각선 = 나이와 요금의 방정식이므로 -> 디시즌트리에 개념상 불가능"
      ],
      "metadata": {
        "id": "vDpjltmc1fw2"
      }
    },
    {
      "cell_type": "markdown",
      "source": [
        "### 로지스틱 리그레션 VS 디시즌 트리\n",
        "\n",
        "로지스틱 : 대각의 경계선 = $ wx $ 기울기와 편향 -> 웨이트 개념\n",
        "\n",
        "디시즌트리 : 한번의 수직 경계선 -> 더 단순한 것이다.(로지스틱보다)\n",
        "\n",
        "- 단순한 분기 수직선을 여러번 반복해서 파티셔닝을 할 것이다.\n",
        "\n",
        "- 장점 :단순한 계산 -> 계산이 쉬워서 반복 가능, 해석이 용이하다(# 중요)"
      ],
      "metadata": {
        "id": "x7XATCIG2B2O"
      }
    },
    {
      "cell_type": "markdown",
      "source": [
        "머신 러닝의 큰 숙제 -> 결과에 대한 해석이 가능해야 한다.\n",
        "\n",
        "이해가 가능해야 성능 개선하고 등등..\n",
        "\n",
        "but - 전체적인 경향을 파악하기 어려운 Decision Tree \n",
        "\n",
        "- 과편향되는 것이다. : test에는 적응 불가\n",
        "\n",
        "- 문제가 살짝 바뀌면 다 틀린다. -> 나만의 경로로 답을 찾아냈는데 다른 문제는 그렇게 못한다."
      ],
      "metadata": {
        "id": "fmkvyp2K4oZk"
      }
    },
    {
      "cell_type": "markdown",
      "source": [
        "### 그렇다면 해결 방법은???\n",
        "\n",
        "1. 질문을 얕게하면 -> 언더핏\n",
        "\n",
        "2. 질문을 깊게하면 -> 오버핏\n",
        "\n",
        "- 적당한 것을 알기 어렵다. : 쓸모없네???\n",
        "\n",
        "    - 엔트로피가 0이 될때까지 찾는다. "
      ],
      "metadata": {
        "id": "ItqTRqRb6QVI"
      }
    },
    {
      "cell_type": "markdown",
      "source": [
        "### 앙상블 -> 모형을 합쳐서 간다\n",
        "\n",
        "1. 하나만으로 성능 x -> 여러개를 합치자\n",
        "\n",
        "2. 내일 다시\n",
        "\n",
        "Recursive Partitioning(반복적 분할) : 반복 질문\n",
        "\n",
        "가지 치기(Prunning) : 규제(오버핏 방지) - 모델복잡도에 제한\n",
        "\n",
        "- 뿌리(root), 가지(branch), 잎(leaf), 노드(점) \n",
        "\n",
        "1. 최소 노드\n",
        "\n",
        "2. 질문 제한(depth 제한)\n"
      ],
      "metadata": {
        "id": "sytgBbQ-7K4o"
      }
    },
    {
      "cell_type": "markdown",
      "source": [
        "### 분류에만 사용되는 건 아니다\n",
        "\n",
        "회귀에 사용될 때는 -> 정보제공량을 불순도로 계산하지 않는다.\n",
        "\n",
        "애초에 불순도를 계산할 수 없다.\n",
        "\n",
        "강남이야 아니야? > 편세권이야 아니야? : 무엇으로 계산하는가??\n",
        "\n",
        "- 나눠진 집단의 부동산 가격의 평균값의 차이(분산)\n",
        "\n",
        "    - 강남 / 아닌곳 의 가격차이 편차가 줄어드는 질문이 좋은 질문.\n",
        "\n",
        "    "
      ],
      "metadata": {
        "id": "MKmuP9s89DnM"
      }
    }
  ]
}