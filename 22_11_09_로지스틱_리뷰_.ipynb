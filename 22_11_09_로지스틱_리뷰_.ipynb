{
  "nbformat": 4,
  "nbformat_minor": 0,
  "metadata": {
    "colab": {
      "provenance": [],
      "authorship_tag": "ABX9TyM2qvO7M2awW3zvXJopc/wf",
      "include_colab_link": true
    },
    "kernelspec": {
      "name": "python3",
      "display_name": "Python 3"
    },
    "language_info": {
      "name": "python"
    }
  },
  "cells": [
    {
      "cell_type": "markdown",
      "metadata": {
        "id": "view-in-github",
        "colab_type": "text"
      },
      "source": [
        "<a href=\"https://colab.research.google.com/github/com0040/offline_alpaco/blob/main/22_11_09_%EB%A1%9C%EC%A7%80%EC%8A%A4%ED%8B%B1_%EB%A6%AC%EB%B7%B0_.ipynb\" target=\"_parent\"><img src=\"https://colab.research.google.com/assets/colab-badge.svg\" alt=\"Open In Colab\"/></a>"
      ]
    },
    {
      "cell_type": "markdown",
      "source": [
        "### Logistic Regression\n",
        "\n",
        "확률적 + 선형\n",
        "\n",
        "- 분류 특성상 오차가 0-1 사이임으로 작은 값으로 나오고 제곱하면 더 작아진다.\n",
        "\n",
        "1. 제대로된 오차 계산 방식이 맞는가?? ▶ 맟췄을 때와 틀렸을 때의 차이가 얼마 나지 않는다 ㅠ\n",
        "\n",
        "2. 그렇다면 분류 모델의 오차를 어떻게 계산하는게 맞나???"
      ],
      "metadata": {
        "id": "p3HlcDqrtGN3"
      }
    },
    {
      "cell_type": "markdown",
      "source": [
        "### 생각을 따라와 보자\n",
        "\n",
        "오차함수가 있으면 좋을듯 하네\n",
        "\n",
        "- 실제가 1 일때 0에 가깝게 예측할수록 오차가 커지게\n",
        "\n",
        "- 실제가 0 일떄 1에 가깝게 예측할 수록 오차가 커지게\n",
        "\n",
        "<img src = \"https://www.mathfactory.net/wp-content/uploads/%EC%88%98%ED%95%99-%EA%B3%B5%EC%8B%9D-%EB%A1%9C%EA%B7%B8%ED%95%A8%EC%88%98-01.png\" width = \"300\" height = \"300\">\n",
        "\n",
        "- 로그 로스 (Log loss)"
      ],
      "metadata": {
        "id": "MrLGf_3z1msh"
      }
    },
    {
      "cell_type": "markdown",
      "source": [
        "### 실제 값이랑 예측 값이랑 달라질수록 패널티를 줘야한다면\n",
        "\n",
        "- 아무 함수나 써도 되는거 아니냐?? -> 아니다. 기울기 계산을 위해 미분해야할 때에\n",
        "\n",
        "♒ 로그로스가 아름답다. ❎\n",
        "\n",
        "$J(\\theta)$ -> J 는 코스트 theta는 weight를 의미한다 (상식)\n",
        "\n",
        "그래디언트가 매끄럽지 못하다 = non - convex"
      ],
      "metadata": {
        "id": "Ec1VI30K3AlD"
      }
    },
    {
      "cell_type": "markdown",
      "source": [
        "### ⚡ 다중 분류일 경우\n",
        "\n",
        "3 분류의 경우? 경계선 2개면 될까?? - no\n",
        "\n",
        "경계선 1개당 하나의 타겟값을 뽑아내므로\n",
        "\n",
        "- 카테고리의 값만큼 경계선이 필요하다. : 1 대다 방식\n",
        "\n",
        "셋다 아닐 경우 아닐 확률이 작은놈 - 으로 간다.\n",
        "\n"
      ],
      "metadata": {
        "id": "a_3L1kvQCeFu"
      }
    },
    {
      "cell_type": "markdown",
      "source": [
        "### 경계선 찾았어 3개\n",
        "\n",
        "weight 구하는 작업이 연산이 복잡 번거로워\n",
        "\n",
        "- 간소화 하고싶어\n",
        "\n",
        "- 3개의 0-1값\n",
        "\n",
        "다 더한 값으로 나눠주면 셋이 합친 확률값이 1이된다\n",
        "\n",
        "wx만 봐도 누가 이길지 안다 -> 인사이트\n",
        "\n"
      ],
      "metadata": {
        "id": "oHMOCum9Ee5W"
      }
    },
    {
      "cell_type": "markdown",
      "source": [
        "### wx 양수화 (wx만 봐도 누가 이길지 안다 -> 인사이트)\n",
        "\n",
        "$ wx ➡ e^\\wx $\n",
        "\n",
        "후에 더한 값으로 나눈 값을 분모로 하는 확률값을 더하면 \n",
        "\n",
        "Softmax 방식이다. 세 경계선의 각자 확률값들을 더했을때 1을 만드는 것.\n",
        "\n",
        "- 반복을 줄이고 확률을 0에서 1사이로 만드는 것\n",
        "\n",
        "Binary Cross Entropy - 이진 분류\n",
        "\n",
        "각각에 경계선에 대해 확률값들을 따로 구하지 않아도되네"
      ],
      "metadata": {
        "id": "iE2kZKtWNNB9"
      }
    },
    {
      "cell_type": "markdown",
      "source": [
        "### 그럼 오차는 어떻게해?\n",
        "\n",
        "최종 예측 전의 확률값 ?? 뭐야 ??\n",
        "\n",
        "예측 3개 실제값(?) - RED를 숫자로 변환(?) : 이렇게 하지 안는다\n",
        "\n",
        "위치만 독립시켜 원핫인코딩(하나의 값만 ON)\n",
        "\n",
        "|색|예측|오차|실제|\n",
        "|---|---|---|---|\n",
        "|red|0-1 (0.9)|오차1|1|\n",
        "|blue|0-1 (0.05)|오차2|0|\n",
        "|green|0-1 (0.05)|오차2|0|\n",
        "\n",
        "- 멀티레이블인 경우 -> softmax X"
      ],
      "metadata": {
        "id": "_R3CqkBtP_oG"
      }
    },
    {
      "cell_type": "markdown",
      "source": [
        "### ㅁ"
      ],
      "metadata": {
        "id": "4Z88eDBnRrZt"
      }
    }
  ]
}