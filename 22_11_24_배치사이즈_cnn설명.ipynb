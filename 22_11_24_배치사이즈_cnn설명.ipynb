{
  "nbformat": 4,
  "nbformat_minor": 0,
  "metadata": {
    "colab": {
      "provenance": [],
      "authorship_tag": "ABX9TyP+ZwWbDgRtoM0mR/CmwDb3",
      "include_colab_link": true
    },
    "kernelspec": {
      "name": "python3",
      "display_name": "Python 3"
    },
    "language_info": {
      "name": "python"
    }
  },
  "cells": [
    {
      "cell_type": "markdown",
      "metadata": {
        "id": "view-in-github",
        "colab_type": "text"
      },
      "source": [
        "<a href=\"https://colab.research.google.com/github/com0040/offline_alpaco/blob/main/22_11_24_%EB%B0%B0%EC%B9%98%EC%82%AC%EC%9D%B4%EC%A6%88_cnn%EC%84%A4%EB%AA%85.ipynb\" target=\"_parent\"><img src=\"https://colab.research.google.com/assets/colab-badge.svg\" alt=\"Open In Colab\"/></a>"
      ]
    },
    {
      "cell_type": "markdown",
      "source": [
        "# 배치사이즈"
      ],
      "metadata": {
        "id": "FuWa9S2-FWHn"
      }
    },
    {
      "cell_type": "markdown",
      "source": [
        "1만개 -> 배치사이즈 100\n",
        "\n",
        "업데이트 100 번\n",
        "\n",
        "민 코스트 웨이트 / 활성화 함수 -> 기울기 소실의 원인\n",
        "\n",
        "렐루 -> 언더핏 방지 / 오버핏 방지 = 규제\n",
        "\n",
        "규제 = 웨이트의 크기 제한\n",
        "\n",
        "- 딥러닝에 적용한다면 웨이트의 갯수 제한\n",
        "\n",
        "    - 층 줄이거나 노드 수를 줄이거나\n",
        "\n",
        "    - 층은 = 딥러닝의 자존심\n",
        "\n",
        "    - 노드를 늘리면 - 문제를 외운다\n",
        "\n",
        "    - 노드를 줄이면 언더핏\n",
        "\n",
        "- 그럼 어떻게?"
      ],
      "metadata": {
        "id": "BQbxa80qFe7s"
      }
    },
    {
      "cell_type": "markdown",
      "source": [
        "## 2교시"
      ],
      "metadata": {
        "id": "S8OYzOI1FYam"
      }
    },
    {
      "cell_type": "markdown",
      "source": [
        "- 적절한 노드수 필요\n",
        "\n",
        "모델복잡도 ⬆ = 웨이트의 크기가 크다는 뜻 -> 웨이트의 개수 ⬇ 해야한다.\n",
        "\n"
      ],
      "metadata": {
        "id": "8pBeUFqXKbsO"
      }
    },
    {
      "cell_type": "markdown",
      "source": [
        "### * **DROP OUT** *"
      ],
      "metadata": {
        "id": "pl5yUJPqK6n5"
      }
    },
    {
      "cell_type": "markdown",
      "source": [
        "일정 비율을 학습에서 제외\n",
        "\n",
        "오퍼핏 방지 "
      ],
      "metadata": {
        "id": "3fDSGbtALKOw"
      }
    },
    {
      "cell_type": "markdown",
      "source": [
        "- 일반화 시키는 방법이다.\n",
        "\n",
        "- 일부를 탈락\n",
        "\n",
        "- 살아남은 애들끼리 학습 -> 원래는 쉬웠던게 어려워짐\n",
        "\n",
        "- 노드 비활성화"
      ],
      "metadata": {
        "id": "TaQqBbOfPPy2"
      }
    },
    {
      "cell_type": "markdown",
      "source": [
        "임퍼런스\n",
        "\n",
        "- 오히려 성능이 잘나와 -> 오버핏 나왔을 때\n"
      ],
      "metadata": {
        "id": "bX9ByJD7PpI4"
      }
    },
    {
      "cell_type": "markdown",
      "source": [
        "# CNN"
      ],
      "metadata": {
        "id": "1bMpBAnTXZ9b"
      }
    },
    {
      "cell_type": "markdown",
      "source": [
        "- 아이디어 : 고양이 왼쪽눈 - 특정 뉴런만 반응\n",
        "- 위치적 특징을 반영해 = 이미지에 특화하기 위해"
      ],
      "metadata": {
        "id": "2GiqwhowXbUG"
      }
    },
    {
      "cell_type": "markdown",
      "source": [
        "## 컨볼루전 = 필터링"
      ],
      "metadata": {
        "id": "bAsCKRXnZMzc"
      }
    },
    {
      "cell_type": "markdown",
      "source": [
        "필터링 = 전처리 작업 -> 잘 분류할 수 있게 만드는 작업\n",
        "\n",
        "필요한 것 빼고 0처리\n",
        "\n",
        "- 필터링 잘하는 필터를 만들기 위해 학습\n",
        "    - 학습을 통해 필터를 찾아\n",
        "\n",
        "머신러닝 = 민코스트 웨이트\n",
        "\n",
        "- 여기서는 민 코스트 필터 = 필터(채우고 있는 숫자는 웨이트다) = 필터가 웨이트다"
      ],
      "metadata": {
        "id": "DWsucAjnZO-G"
      }
    },
    {
      "cell_type": "markdown",
      "source": [
        "채널 = 색이다. 무슨 색이든 알지비 있으면 만들기 가능"
      ],
      "metadata": {
        "id": "NzK8nDFTcmaa"
      }
    },
    {
      "cell_type": "markdown",
      "source": [
        "1. 국소적 영역\n",
        "\n",
        "2. CNN은 필터링이다.\n",
        "\n",
        "-> 슬라이딩 한다.\n",
        "\n",
        ": 전체 커버할 때 같은 필터로 하는 것이 타당한 것인가?\n",
        "\n",
        "그러면?\n",
        "\n",
        "3X3(작은필터) 을 사용한게 성능이 가장 좋다? - 과한 일반화\n",
        "\n",
        "SO 여러 필터를 사용한다.\n",
        "\n",
        "필터가 작으면 - 언더핏 / 크면 - 오버핏"
      ],
      "metadata": {
        "id": "Yp68IyotdQyM"
      }
    },
    {
      "cell_type": "markdown",
      "source": [
        "필터의크기, 스트라이드(스탭), 필터의 수 = 피처맵의 크기(H,W,S)\n",
        "\n",
        "핕터 통과 -> 나이브하지만 선형적으로 통과한 피처맵\n",
        "\n",
        "그러나 비선형 패턴이 - 선형적으로 되지 않으므로 렐루를 한다."
      ],
      "metadata": {
        "id": "iHeBnJ93dUWE"
      }
    },
    {
      "cell_type": "markdown",
      "source": [
        "필터의 차원과 필터의 갯수 확인할 줄 아는 것이 중요\n",
        "\n",
        "1. cost가 최소가 되게 하는 필터를 찾는 것이 핵심이다.\n",
        "\n",
        "2. 필터가 곧 weight다\n",
        "\n",
        "3. weight의 개수 세기\n",
        "\n",
        "# 필터를 학습하는 것이다."
      ],
      "metadata": {
        "id": "1tgU7IB_GTET"
      }
    },
    {
      "cell_type": "markdown",
      "source": [
        "바이어스는? \n",
        "\n",
        "가중합에 상수로 추가되는 거자나\n",
        "\n",
        "- 가중합이 필터의 계산이니 채널별로 있을 필요없고\n",
        "\n",
        "- 채널 다 계산한게 weight 잖아 거기에 하나 붙는거 뿐이지"
      ],
      "metadata": {
        "id": "kN24K29lKW8f"
      }
    },
    {
      "cell_type": "markdown",
      "source": [
        " ## 패딩"
      ],
      "metadata": {
        "id": "0xYEFcgGKqSW"
      }
    },
    {
      "cell_type": "markdown",
      "source": [
        "- 가장자리를 임의의 값으로 채우는 것"
      ],
      "metadata": {
        "id": "wi6sschzNqS5"
      }
    },
    {
      "cell_type": "markdown",
      "source": [
        "1. 의도치않은 차원축소 방지 -> 원본훼손 x / 0으로 채운다\n",
        "\n",
        "2. 가장자리의 중요도?\n",
        "\n",
        "    - 무시하지않겠다.\n",
        "\n"
      ],
      "metadata": {
        "id": "4RO_w8r4NdGS"
      }
    },
    {
      "cell_type": "markdown",
      "source": [
        "풀링으로 차원축소하나\n",
        "\n",
        "패딩을 안하는거나 비슷하네 "
      ],
      "metadata": {
        "id": "bPseDWFfPl5O"
      }
    },
    {
      "cell_type": "code",
      "execution_count": null,
      "metadata": {
        "id": "utbUE9TLFQbe"
      },
      "outputs": [],
      "source": []
    }
  ]
}