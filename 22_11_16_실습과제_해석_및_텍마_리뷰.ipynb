{
  "nbformat": 4,
  "nbformat_minor": 0,
  "metadata": {
    "colab": {
      "provenance": [],
      "authorship_tag": "ABX9TyMIqo7I2QvNh2ph8raXvCg8",
      "include_colab_link": true
    },
    "kernelspec": {
      "name": "python3",
      "display_name": "Python 3"
    },
    "language_info": {
      "name": "python"
    }
  },
  "cells": [
    {
      "cell_type": "markdown",
      "metadata": {
        "id": "view-in-github",
        "colab_type": "text"
      },
      "source": [
        "<a href=\"https://colab.research.google.com/github/com0040/offline_alpaco/blob/main/22_11_16_%EC%8B%A4%EC%8A%B5%EA%B3%BC%EC%A0%9C_%ED%95%B4%EC%84%9D_%EB%B0%8F_%ED%85%8D%EB%A7%88_%EB%A6%AC%EB%B7%B0.ipynb\" target=\"_parent\"><img src=\"https://colab.research.google.com/assets/colab-badge.svg\" alt=\"Open In Colab\"/></a>"
      ]
    },
    {
      "cell_type": "markdown",
      "source": [
        "머신러닝 - 코스트가 최소가 되게하는 웨이트값\n",
        "\n",
        "원리 - 기울기를 낮춰 \n",
        "\n",
        "텍 마 - 사람처럼 이해\n",
        "\n",
        "쓰여진 순서 포기 -> 딥러닝 가야됨\n",
        "\n",
        "- CNN, RNN \n",
        "\n",
        "데이터 수집 - 크롤링\n",
        "\n",
        "웹 브라우저 -> 크롤러를 만든다(대용량)\n",
        "\n",
        "정규표현식 -> 용법 (위치적 특징 / 내부적 특징)\n",
        "\n",
        "토큰화 벡터화 사이 -> 차원을 줄이는 것.\n",
        "\n",
        "bow / tf-idf\n",
        "\n",
        "---\n",
        "\n",
        "외우긴 해야해 - \n",
        "\n",
        "0단계 - hypothisis\n",
        "\n",
        "1단계 - 초기값\n",
        "\n",
        "2단계 - 기울기\n",
        "\n",
        "3단계 - 업데이트\n",
        "\n",
        "---\n",
        "\n",
        "로지스틱 리그레션의 확장판 - 딥러닝\n",
        "\n",
        "---\n",
        "\n",
        "다중분류 -> 선을 여러개 그어야 한다.\n",
        "\n",
        "---\n",
        "\n",
        "선형 - 로지스틱 / 비선형 - 딥러닝\n",
        "\n",
        "---\n",
        "\n",
        "    결정나무 - 스무고개\n",
        "\n",
        "---\n",
        "\n",
        "    앙상블로 - 많이 쓴다. 에이다부스트. 랜덤 포레스트\n",
        "\n",
        "---\n",
        "\n",
        "    나이브 베이즈 - 확률 : "
      ],
      "metadata": {
        "id": "UYXRey-of_sZ"
      }
    },
    {
      "cell_type": "code",
      "execution_count": null,
      "metadata": {
        "id": "qBd4I7ZXfMtT"
      },
      "outputs": [],
      "source": []
    }
  ]
}