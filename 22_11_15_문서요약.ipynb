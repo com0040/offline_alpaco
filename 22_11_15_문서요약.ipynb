{
  "nbformat": 4,
  "nbformat_minor": 0,
  "metadata": {
    "colab": {
      "provenance": [],
      "authorship_tag": "ABX9TyOAjGrivi/f3Us88ggBEjIp",
      "include_colab_link": true
    },
    "kernelspec": {
      "name": "python3",
      "display_name": "Python 3"
    },
    "language_info": {
      "name": "python"
    }
  },
  "cells": [
    {
      "cell_type": "markdown",
      "metadata": {
        "id": "view-in-github",
        "colab_type": "text"
      },
      "source": [
        "<a href=\"https://colab.research.google.com/github/com0040/offline_alpaco/blob/main/22_11_15_%EB%AC%B8%EC%84%9C%EC%9A%94%EC%95%BD.ipynb\" target=\"_parent\"><img src=\"https://colab.research.google.com/assets/colab-badge.svg\" alt=\"Open In Colab\"/></a>"
      ]
    },
    {
      "cell_type": "markdown",
      "source": [
        "# 문서요약"
      ],
      "metadata": {
        "id": "vUGWNADMrFKP"
      }
    },
    {
      "cell_type": "markdown",
      "source": [
        "문서요약 - 설명이 많이 필요없다.\n",
        "\n",
        "- 앞뒤 문맥에서 단어의 중요도를 판단\n",
        "\n",
        "- 요약의 길이와 핵심 내용을 어떻게 판단?\n",
        "\n",
        ": 요약의 크기는 정해줘야한다 -> 몇 분이내(길어요 / 짧아요)\n",
        "\n",
        "생성요약은 - 현재는 - 불가능\n",
        "\n",
        "나중에 딥러닝 기반으로 생성 가능 -> "
      ],
      "metadata": {
        "id": "7sInQWiorHd-"
      }
    },
    {
      "cell_type": "markdown",
      "source": [
        "## text rank"
      ],
      "metadata": {
        "id": "oBWi7KtIuMeV"
      }
    },
    {
      "cell_type": "markdown",
      "source": [
        "페이지와 페이지의 중요도 -> 래리 페이지는 천재다.\n",
        "\n",
        "- 연산하는 방식을 \n",
        "    \n",
        "    - 문장과 문장\n",
        "    - 단어\n",
        "    - 중요한 토큰에게 점수 부여\n",
        "    - 함깨쓰인 단어에게 중요도 부여\n",
        "\n",
        "gensim"
      ],
      "metadata": {
        "id": "WyO2cOFSuTyW"
      }
    },
    {
      "cell_type": "markdown",
      "source": [
        "### 토픽 모델링과 닮아있다."
      ],
      "metadata": {
        "id": "gBFb_7JB0pDU"
      }
    },
    {
      "cell_type": "markdown",
      "source": [
        "## lex lank"
      ],
      "metadata": {
        "id": "L2X0tdd9uP2e"
      }
    },
    {
      "cell_type": "code",
      "execution_count": null,
      "metadata": {
        "id": "iS0NFRXbrBwt"
      },
      "outputs": [],
      "source": []
    }
  ]
}