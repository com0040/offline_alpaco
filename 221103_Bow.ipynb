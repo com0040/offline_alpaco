{
  "nbformat": 4,
  "nbformat_minor": 0,
  "metadata": {
    "colab": {
      "provenance": [],
      "authorship_tag": "ABX9TyODOqEjc3am3+nWFtuNM4vl",
      "include_colab_link": true
    },
    "kernelspec": {
      "name": "python3",
      "display_name": "Python 3"
    },
    "language_info": {
      "name": "python"
    }
  },
  "cells": [
    {
      "cell_type": "markdown",
      "metadata": {
        "id": "view-in-github",
        "colab_type": "text"
      },
      "source": [
        "<a href=\"https://colab.research.google.com/github/com0040/offline_alpaco/blob/main/221103_Bow.ipynb\" target=\"_parent\"><img src=\"https://colab.research.google.com/assets/colab-badge.svg\" alt=\"Open In Colab\"/></a>"
      ]
    },
    {
      "cell_type": "markdown",
      "source": [
        "### Bow = 토큰의 빈도수 -> 숫자\n",
        "\n",
        "토큰화 과정?\n",
        "\n",
        "-> 어떤 토큰이 얼마나?? : 문서의 의미정보(숫자) = feature\n",
        " \n",
        "1. 하나이상 등장한 모든 토큰\n",
        "\n",
        "2. 수집한 토큰 뭉치 -> 문서의 feature로\n",
        "\n",
        "3. 각 문서마다 토큰(feature)의 빈도수 count\n",
        "\n",
        "4. count한 feature 기준의 여러 분석  --> 분석단계\n",
        "\n",
        "\n",
        "    - 희소표현(feature를 많이 모으는 문제)\n",
        "\n",
        "    - 빈도 높은 불용어에 의한 왜곡"
      ],
      "metadata": {
        "id": "1PZ6M1y3FQcw"
      }
    },
    {
      "cell_type": "code",
      "execution_count": null,
      "metadata": {
        "id": "1NVhgt0rFJYJ"
      },
      "outputs": [],
      "source": []
    }
  ]
}