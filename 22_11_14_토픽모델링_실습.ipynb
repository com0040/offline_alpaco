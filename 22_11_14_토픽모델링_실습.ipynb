{
  "nbformat": 4,
  "nbformat_minor": 0,
  "metadata": {
    "colab": {
      "provenance": [],
      "authorship_tag": "ABX9TyOXYH7oPXO8kUfs1ibIIrjW",
      "include_colab_link": true
    },
    "kernelspec": {
      "name": "python3",
      "display_name": "Python 3"
    },
    "language_info": {
      "name": "python"
    }
  },
  "cells": [
    {
      "cell_type": "markdown",
      "metadata": {
        "id": "view-in-github",
        "colab_type": "text"
      },
      "source": [
        "<a href=\"https://colab.research.google.com/github/com0040/offline_alpaco/blob/main/22_11_14_%ED%86%A0%ED%94%BD%EB%AA%A8%EB%8D%B8%EB%A7%81_%EC%8B%A4%EC%8A%B5.ipynb\" target=\"_parent\"><img src=\"https://colab.research.google.com/assets/colab-badge.svg\" alt=\"Open In Colab\"/></a>"
      ]
    },
    {
      "cell_type": "markdown",
      "source": [
        "# 토픽 모델링"
      ],
      "metadata": {
        "id": "9fDPVslqiBlZ"
      }
    },
    {
      "cell_type": "markdown",
      "source": [
        "토픽 모델링은 - 예측 - 이 아니다.\n",
        "\n",
        "사후 분석이다.\n",
        "\n",
        "---\n",
        "\n",
        "LDA (잠재 디리클레 할당 - 모델이름) : Latent Dirichlet Allocation\n",
        "\n",
        "- 분석 방식 : 가정 하고 시작\n",
        "\n",
        "    1. 하나의 문서 안에 여러 토픽이 혼합되어있다.\n",
        "\n",
        "    2. 토픽은 확률 분포에 기반한 단어들의 집합으로 구성되어있다.\n",
        "\n",
        "접근법만 확인했다.\n",
        "\n",
        "- 토픽을 추정 - 구성 단어도 추정\n",
        "\n",
        "잘 되고 있는지 확인 필요하다.\n",
        "\n",
        "% 문자열 저장 -> ' '.join(x) -> 리스트로 저장 방지\n",
        "\n",
        "토픽 모델링 핵심 - 나머지 피라미터보다 주제 갯수가 중요"
      ],
      "metadata": {
        "id": "y3sUqDgXiFrs"
      }
    }
  ]
}