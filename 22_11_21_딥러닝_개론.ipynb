{
  "nbformat": 4,
  "nbformat_minor": 0,
  "metadata": {
    "colab": {
      "provenance": [],
      "toc_visible": true,
      "authorship_tag": "ABX9TyPgYG18dkYG9djqrmPUBH+f",
      "include_colab_link": true
    },
    "kernelspec": {
      "name": "python3",
      "display_name": "Python 3"
    },
    "language_info": {
      "name": "python"
    }
  },
  "cells": [
    {
      "cell_type": "markdown",
      "metadata": {
        "id": "view-in-github",
        "colab_type": "text"
      },
      "source": [
        "<a href=\"https://colab.research.google.com/github/com0040/offline_alpaco/blob/main/22_11_21_%EB%94%A5%EB%9F%AC%EB%8B%9D_%EA%B0%9C%EB%A1%A0.ipynb\" target=\"_parent\"><img src=\"https://colab.research.google.com/assets/colab-badge.svg\" alt=\"Open In Colab\"/></a>"
      ]
    },
    {
      "cell_type": "markdown",
      "source": [
        "# 딥러닝"
      ],
      "metadata": {
        "id": "hUW0U8Fhf1lM"
      }
    },
    {
      "cell_type": "markdown",
      "source": [
        "## 머신러닝 복습해야함\n"
      ],
      "metadata": {
        "id": "cuMWrMy_f3ph"
      }
    },
    {
      "cell_type": "markdown",
      "source": [],
      "metadata": {
        "id": "gRIwQ_nYgT5V"
      }
    },
    {
      "cell_type": "markdown",
      "source": [
        "이미지의 적합한 hypothisis\n",
        "\n",
        "그것이 딥러닝이다.\n",
        "\n",
        "- 코스트 최소 웨이트\n",
        "\n",
        "최소 코스트를 찾아가는 과정?\n",
        "\n",
        "머신러닝과 딥러닝은 같다."
      ],
      "metadata": {
        "id": "cljsvl2ikd1c"
      }
    },
    {
      "cell_type": "markdown",
      "source": [
        "## 딥러닝은 MLP를 곂쳐놓은것"
      ],
      "metadata": {
        "id": "goLW02l1glrv"
      }
    },
    {
      "cell_type": "markdown",
      "source": [
        "\n",
        "\n",
        "하나는 단순한데 여러개는 강력\n",
        "\n",
        "- 앙상블이다. 부스팅 방식(베깅 X)\n",
        "\n",
        "- 베깅방식 (투표: 편향된 녀석들을 일반화 하기위한 방식) = depth가 깊어져도 된다.\n",
        "\n",
        "- 부스팅방식 (앞에 학습기를 이어받으므로 깊어지면 안된다)\n",
        "\n",
        "    - 아이디어 : 간단한 모델 여러개를 붙여서 복잡한 모델을 만든다.\n",
        "\n",
        "\n"
      ],
      "metadata": {
        "id": "r3Mwpiz1g6Tn"
      }
    },
    {
      "cell_type": "markdown",
      "source": [
        "### 퍼셉트론 아이디어\n",
        "\n",
        "\n",
        "\n",
        "\n"
      ],
      "metadata": {
        "id": "-qudcu_aiFqF"
      }
    },
    {
      "cell_type": "markdown",
      "source": [
        "\n",
        "- 기본적으로 분류기\n",
        "\n",
        "- 선형분류기 (단순분류기)\n",
        "\n",
        "1. 다층퍼셉트론은 비선형 분류기다.\n",
        "\n",
        "    - 비선형 분류를 가능하게 만드는 것 = 활성화함수(계단함수)\n",
        "\n",
        "2. 다층이 된다고 무조건 비선형 X\n",
        "\n",
        "    - 활성화 함수의 역할\n",
        "\n",
        "- 양수면 1 음수면 0 이되게하는 스탭펑션"
      ],
      "metadata": {
        "id": "uZM9QCfNkUyH"
      }
    },
    {
      "cell_type": "markdown",
      "source": [
        "## 하나의 뉴런은 단순, 다층이되면 비선형\n",
        "\n",
        "\n"
      ],
      "metadata": {
        "id": "0LwYkespjDWy"
      }
    },
    {
      "cell_type": "markdown",
      "source": [
        "\n",
        "- 선형 : 굴곡으로 이루어짐\n",
        "\n",
        "- 비선형 : 꺽임\n",
        "\n",
        "1. 뉴런도 비선형을 통과함\n",
        "\n",
        "    - 경계선을 결정짓는데 포함하지 않는다(분류기의 선형/비선형의 유무는 중요하지않음)\n",
        "\n",
        "마지막 단은 뺀다.\n",
        "\n",
        "경계선을 결정짓는 요소에 비선형을 포함한다면 비선형 분류기가 된다."
      ],
      "metadata": {
        "id": "QQ_-ZsOgkTHI"
      }
    },
    {
      "cell_type": "markdown",
      "source": [
        "### 러프하게 이해하지마라"
      ],
      "metadata": {
        "id": "YVXBN6JUkL-J"
      }
    },
    {
      "cell_type": "markdown",
      "source": [
        "다층이니까 비선형이겠지\n",
        "\n",
        "나중에 이해하기 위해\n",
        "\n",
        "확장가능성이 있는 범주까지 들어와서 이해하자"
      ],
      "metadata": {
        "id": "LVmzyMzCk1f8"
      }
    },
    {
      "cell_type": "markdown",
      "source": [
        "### 비선형성의 수준?"
      ],
      "metadata": {
        "id": "nMXnJmdak-Vd"
      }
    },
    {
      "cell_type": "markdown",
      "source": [
        "레벨을 나눌 수 있다면 낮은 레벨의 비선형성의 경계선으로 어려운 문제를 풀 수 없다.\n",
        "\n",
        "- 2층 짜리의 뉴럴 네트워크 -> 죽엇다 깨어나도 못 푼다.\n",
        "\n",
        "- 그래서 층을 늘린다. -> 이해\n",
        "\n",
        "1. 2층짜리로 학습 -> 언더핏 -> 3층으로 학습\n",
        "\n",
        "2. 층이 높아지면 모델이 너무 복잡해짐\n",
        "\n",
        "    - 오버핏 : 딥러닝의 딜레마\n",
        "\n",
        "    - 적절한 것을 어떻게 찾느냐\n",
        "\n",
        "3. 구조를 정직하게 쌓으면\n",
        "\n",
        "    - 모델 복잡도가 무한히 늘어남\n",
        "\n",
        "    - 변칙적으로 구성시켜서 해결\n"
      ],
      "metadata": {
        "id": "MkA9qVLrl412"
      }
    },
    {
      "cell_type": "markdown",
      "source": [
        "## 다층 퍼셉트론의 hypeothisis\n",
        "\n",
        "- 도식화\n",
        "\n",
        "![image.png](data:image/png;base64,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)"
      ],
      "metadata": {
        "id": "sy5MsFuGmlpF"
      }
    },
    {
      "cell_type": "markdown",
      "source": [
        "수식은 어렵다."
      ],
      "metadata": {
        "id": "puEuHbxGo4m8"
      }
    },
    {
      "cell_type": "markdown",
      "source": [
        "## 층이 많아지면 비선형 복잡도가 올라간다."
      ],
      "metadata": {
        "id": "-27V6NK3vSpH"
      }
    },
    {
      "cell_type": "markdown",
      "source": [
        "콜라의 아이디어\n",
        "\n",
        "- 인풋, 히든, 아웃풋 레이어\n",
        "\n",
        "- 입력, 은닉, 출력 층\n",
        "\n"
      ],
      "metadata": {
        "id": "EpBHYfwavWvl"
      }
    },
    {
      "cell_type": "markdown",
      "source": [
        "## 비선형 패턴을 찾아주는 측면이 있고"
      ],
      "metadata": {
        "id": "nsAhIe8MwYN5"
      }
    },
    {
      "cell_type": "markdown",
      "source": [
        "데이터의 차원을 비틀고 늘리고 접어서 선형분류\n",
        "\n",
        "1. 비선형 경계선 = 선형으로 바꾼다음에 풀겠다.\n",
        "\n",
        "커널 개념 = 딥러닝의 백그라운드 개념\n",
        "\n",
        "딥러닝이 학습하는 관점"
      ],
      "metadata": {
        "id": "igtdqs1zweug"
      }
    },
    {
      "cell_type": "markdown",
      "source": [
        "저차원을 고차원을 바꾸겠다는 것이 아니다.\n",
        "\n",
        "- 새로운 축을 찾아 줄 것이다.\n",
        "\n",
        "- 선형으로 문제를 풀 것이다."
      ],
      "metadata": {
        "id": "gQQ-kqWsxFuY"
      }
    },
    {
      "cell_type": "markdown",
      "source": [
        "## 두 덩어리로 나누어 보세요\n",
        "\n",
        "\n"
      ],
      "metadata": {
        "id": "ch16Owr9yTZA"
      }
    },
    {
      "cell_type": "markdown",
      "source": [
        "1. 맨끝층\n",
        "\n",
        "2. 나머지층\n",
        "\n",
        "어떻게 비선형이 가능한가\n",
        "\n",
        "- 두번째 관점을 이해하려면\n",
        "\n",
        "맨끝 층을 먼저 봐야한다."
      ],
      "metadata": {
        "id": "QQHmrcFcyq3Q"
      }
    },
    {
      "cell_type": "markdown",
      "source": [
        "### 맨 끝 층만 보면 \n",
        "\n",
        "선형 경계선을 그린다 (무조건)"
      ],
      "metadata": {
        "id": "oX18uiRxy8KI"
      }
    },
    {
      "cell_type": "markdown",
      "source": [
        "x로 시작했는데 맨 끝 층만 보면 a가 분류되는 것으로 보인다.\n",
        "\n",
        "- 새로운 좌표로 이동했다고 봐도 되는 것이다.\n",
        "\n",
        "1. x를 a로 만들고\n",
        "\n",
        "2. a축에서 선형경계선을 그려 분류"
      ],
      "metadata": {
        "id": "V4pZ2Rz8zBYT"
      }
    },
    {
      "cell_type": "markdown",
      "source": [
        "### 새로운 관점"
      ],
      "metadata": {
        "id": "vuYTJvb_0ILM"
      }
    },
    {
      "cell_type": "markdown",
      "source": [
        "- a라는 차원에 옮겨 선형 분류\n",
        "\n",
        "    - 선형으로 분류가가능하다?\n",
        "\n",
        "    - x공간에서는 선형 분류가 불가능\n",
        "\n",
        "    - a공간에서는 선형 분류가 가능"
      ],
      "metadata": {
        "id": "xJFYmsaC0KOP"
      }
    },
    {
      "cell_type": "markdown",
      "source": [
        "### 3) 딥러닝의 과정"
      ],
      "metadata": {
        "id": "_GAdtf040oQq"
      }
    },
    {
      "cell_type": "markdown",
      "source": [
        "1. 데이터를 a공간으로\n",
        "\n",
        "2. 선형 경계선 -> 선형 분류"
      ],
      "metadata": {
        "id": "CmupFg950rWI"
      }
    },
    {
      "cell_type": "markdown",
      "source": [
        "## 4) 두개는 같은 말이다"
      ],
      "metadata": {
        "id": "1g0JmLTN0vOc"
      }
    },
    {
      "cell_type": "markdown",
      "source": [
        "(1) x 공간에서 비선형 경계선으로 분류\n",
        "\n",
        "(2) a 공간에서 선형으로 분류"
      ],
      "metadata": {
        "id": "_NohaFb000eJ"
      }
    },
    {
      "cell_type": "markdown",
      "source": [
        "### 5) 최적의 a 좌포를 어떻게 찾는가"
      ],
      "metadata": {
        "id": "FjR0l2IS1lD6"
      }
    },
    {
      "cell_type": "markdown",
      "source": [
        "데이터 넣어서 학습\n",
        "\n",
        "- 최적의 a 공간이 되느냐 아니냐는 웨이트에 달렸다.\n",
        "\n"
      ],
      "metadata": {
        "id": "pg3URzXL1oNQ"
      }
    },
    {
      "cell_type": "markdown",
      "source": [
        "## 5) 정리하자면"
      ],
      "metadata": {
        "id": "LafO9K_53aM9"
      }
    },
    {
      "cell_type": "markdown",
      "source": [
        "1. x 공간에서 a로 비선형을 선형으로 만드는 웨이트\n",
        "\n",
        "2. 선형화 된 a 공간에서의 최적의 경계선을 찾는 weight\n",
        "\n",
        "    - 찾는 과정이다."
      ],
      "metadata": {
        "id": "rCCvF7mx3ctA"
      }
    },
    {
      "cell_type": "markdown",
      "source": [
        "## 6) 딥러닝은 두 단계"
      ],
      "metadata": {
        "id": "59nm-knN4GmW"
      }
    },
    {
      "cell_type": "markdown",
      "source": [
        "마지막은 선형분류 하는거다.\n",
        "\n",
        "1. 비선형 데이터가 들어온다. 선형으로 전처리한다.\n",
        "2. 선형 분류하겠다."
      ],
      "metadata": {
        "id": "TvWjggke8GEH"
      }
    },
    {
      "cell_type": "markdown",
      "source": [
        "# 다중퍼셉트론의 구조를 이해한 것이다."
      ],
      "metadata": {
        "id": "U_DfXEa88aJP"
      }
    },
    {
      "cell_type": "markdown",
      "source": [
        "## 웨이트의 갯수를 세는게 공부법이다."
      ],
      "metadata": {
        "id": "6FTQbazI9kTv"
      }
    },
    {
      "cell_type": "markdown",
      "source": [
        "장점은 무엇일까?\n",
        "\n",
        "문제풀이"
      ],
      "metadata": {
        "id": "xStwQY5d9oUp"
      }
    },
    {
      "cell_type": "markdown",
      "source": [
        "## 웨이트의 갯수 = 치트키"
      ],
      "metadata": {
        "id": "uxNWWffzCMM4"
      }
    },
    {
      "cell_type": "markdown",
      "source": [
        "## 데이터의 갯수는 예측량만 많아질 뿐이다."
      ],
      "metadata": {
        "id": "ar6v_dojD0Ya"
      }
    },
    {
      "cell_type": "markdown",
      "source": [
        "같은 웨이트로 코스트를 낮추는 방향으로 사용된다."
      ],
      "metadata": {
        "id": "67eD1Hu2D4By"
      }
    },
    {
      "cell_type": "markdown",
      "source": [
        "### (1) 내가 뭘 모르는지 알려준다."
      ],
      "metadata": {
        "id": "OgzxkQOnEJ4b"
      }
    },
    {
      "cell_type": "markdown",
      "source": [
        "### (2) 복습이 된다."
      ],
      "metadata": {
        "id": "TbtlqYpJEM22"
      }
    },
    {
      "cell_type": "markdown",
      "source": [
        "### (3) 웨이트의 갯수는 모델의 복잡도를 유추"
      ],
      "metadata": {
        "id": "D3w3dBKEEbfS"
      }
    },
    {
      "cell_type": "markdown",
      "source": [
        "핵심개념이다.\n",
        "\n",
        "성능개선\n",
        "\n",
        "모델복잡도\n",
        "\n",
        "오버핏\n",
        "\n",
        "데이터복잡도\n",
        "\n",
        "언더핏"
      ],
      "metadata": {
        "id": "aV9cZPYgEgsw"
      }
    },
    {
      "cell_type": "markdown",
      "source": [
        "# 아하 딥러닝 = 웨이트가 많다 / 복잡도 ⬆ / w 크기"
      ],
      "metadata": {
        "id": "zdDe6-88EZYs"
      }
    },
    {
      "cell_type": "markdown",
      "source": [
        "### 웨이트의 크기 vs 웨이트의 갯수"
      ],
      "metadata": {
        "id": "Mz3G3hh-FQ2v"
      }
    },
    {
      "cell_type": "markdown",
      "source": [
        "그림이 하이퍼티티즈를 도식화 한것이다."
      ],
      "metadata": {
        "id": "VjMz4aqLFuuo"
      }
    },
    {
      "cell_type": "markdown",
      "source": [
        "# 다층 퍼셉트론의 코스트 계산"
      ],
      "metadata": {
        "id": "kC3hlVLvaOt0"
      }
    },
    {
      "cell_type": "markdown",
      "source": [
        "## 이름이 퍼셉트론"
      ],
      "metadata": {
        "id": "_eOEZhsPaRV0"
      }
    },
    {
      "cell_type": "markdown",
      "source": [
        "퍼셉트론은 비확률적 코스트 계산"
      ],
      "metadata": {
        "id": "wVoVmI5maTP-"
      }
    },
    {
      "cell_type": "markdown",
      "source": [
        "## 로지스틱과 같은 로그로스를 사용"
      ],
      "metadata": {
        "id": "18j5-WZaaW28"
      }
    },
    {
      "cell_type": "markdown",
      "source": [
        "실제 계산법을 보아야함 -> "
      ],
      "metadata": {
        "id": "spowY_0MaaME"
      }
    },
    {
      "cell_type": "markdown",
      "source": [
        "## 왜 이름이 다층 로지스틱 아님?"
      ],
      "metadata": {
        "id": "Hquzv36caoK-"
      }
    },
    {
      "cell_type": "markdown",
      "source": [
        "퍼셉트론을 고안한 사람이 다층을 염두해 둔거였다.\n",
        "\n",
        "- 스탭펑션을 다층으로 가면 연산이 안됀다.\n",
        "\n",
        "- 시그모이드를 써야겠다 생각함\n",
        "\n",
        "- 퍼셉트론은 스탭펑션"
      ],
      "metadata": {
        "id": "TA_7EzbGarqJ"
      }
    },
    {
      "cell_type": "markdown",
      "source": [
        "1. 로지스틱함수 으로 바꿨는데\n",
        "\n",
        "2. 연산이 안돼서\n",
        "\n",
        "3. 렐루라는 활성화 함수로  바꿨다."
      ],
      "metadata": {
        "id": "JIImEyOebMKC"
      }
    },
    {
      "cell_type": "markdown",
      "source": [
        "### 퍼셉트론은 잊자 "
      ],
      "metadata": {
        "id": "nYCjCX6accUc"
      }
    },
    {
      "cell_type": "markdown",
      "source": [
        "전체의 기울기를 구할 수 있어야한다."
      ],
      "metadata": {
        "id": "Zu1981chckEF"
      }
    },
    {
      "cell_type": "markdown",
      "source": [
        "## 하이퍼 티티즈가 포함된 코스트함수"
      ],
      "metadata": {
        "id": "a2GhT6yddku6"
      }
    },
    {
      "cell_type": "markdown",
      "source": [
        "미분해서 기울기 계산이 가능해야한다.\n",
        "\n",
        "- 스탭펑션은 기울기가 없다\n",
        "\n",
        "- 고로 넣어주지 못한다.\n",
        "\n",
        "1. 언제 바꼇지?\n",
        "\n",
        "2. 왜 확률이지?"
      ],
      "metadata": {
        "id": "6H4-9svxdrZz"
      }
    },
    {
      "cell_type": "markdown",
      "source": [
        "## 코스트 펑션"
      ],
      "metadata": {
        "id": "291k3b7lepTi"
      }
    },
    {
      "cell_type": "markdown",
      "source": [
        "머신러닝 직관\n",
        "\n",
        "- 모델을 알아야 적립하고 갈 수 있다.\n",
        "\n",
        "정리해나가자\n",
        "\n",
        "- 하이퍼티디즈 + 코스트 펑션 을 공부하라는 것은\n",
        "\n",
        "- 예측방법 + 학습방식 을 보라는 이야기다\n",
        "\n",
        "1. 로지스틱과 같이 생겨서 그냥 넘어갈 수는 없다.\n",
        "\n",
        "    - 민스키 교수 : 다층 구조는 이상적으로는 생물의 뇌를 모방한 것은 맞으나\n",
        "\n",
        "    - 문제는 웨이트가 학습이 되어야하는데 \n",
        "\n",
        "    - 최적의 웨이트를 구할 수 없다고 증명했다.\n",
        "\n",
        "        1. 연산의 조합이기 때문에 (하나의 웨이트 = 나머지 통제) : 연결되어있기 때문에 미지수가 여러개 인데 독립적으로 계산 불가능 하다고 선언\n",
        "\n",
        "        2. 연구 중단"
      ],
      "metadata": {
        "id": "6_bJETTFfC4v"
      }
    },
    {
      "cell_type": "markdown",
      "source": [
        "## 그러니까 코스트 펑션만 보고 넘어가면 안된다."
      ],
      "metadata": {
        "id": "R-jtssQuhpHC"
      }
    },
    {
      "cell_type": "markdown",
      "source": [
        "기본적인 방식으로는 민스키 교수가 안됀다했으니\n",
        "\n",
        "1. 웨이트 학습의 방법을 이해해야한다.\n",
        "\n",
        "2. 역사를 살펴 볼 필요가 있다."
      ],
      "metadata": {
        "id": "uY7IqYSkhtYn"
      }
    },
    {
      "cell_type": "markdown",
      "source": [
        "## 역사 \n"
      ],
      "metadata": {
        "id": "t3OBgUfCpQsM"
      }
    },
    {
      "cell_type": "markdown",
      "source": [
        "\n",
        "1. 퍼셉트론 제안\n",
        "\n",
        "2. 다층 퍼셉트론의 학습 x\n",
        "\n",
        "3. 역전파 제안\n",
        "\n",
        "4. 역전파 체택\n",
        "\n",
        "5. 기울기 소실\n",
        "\n",
        "6. 초깃값 설정 방법론, 활성화 함수 채택"
      ],
      "metadata": {
        "id": "-CmvZYdisVqb"
      }
    },
    {
      "cell_type": "markdown",
      "source": [
        "### 로지스틱의 문제"
      ],
      "metadata": {
        "id": "YXmhdrrysWFt"
      }
    },
    {
      "cell_type": "markdown",
      "source": [
        "각층에 하나\n",
        "\n",
        "1. 기울기도 작고\n",
        "\n",
        "2. 체인룰\n",
        "\n",
        "    - 각각의 기울기 미분 후 곱\n",
        "\n",
        "3. 여러층이 될수록 0에 가까워 진다.\n",
        "\n",
        "- 성능 하락의 주범이다."
      ],
      "metadata": {
        "id": "Ko4xADgHsX7w"
      }
    },
    {
      "cell_type": "markdown",
      "source": [
        "## 이미지 대회"
      ],
      "metadata": {
        "id": "u1JM73Dxt-YK"
      }
    },
    {
      "cell_type": "markdown",
      "source": [
        "알랙스넷 - 성능 1등"
      ],
      "metadata": {
        "id": "JogwRIWjuCxX"
      }
    },
    {
      "cell_type": "markdown",
      "source": [],
      "metadata": {
        "id": "pmvzRJ7uu6RG"
      }
    }
  ]
}