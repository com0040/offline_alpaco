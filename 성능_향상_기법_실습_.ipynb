{
  "nbformat": 4,
  "nbformat_minor": 0,
  "metadata": {
    "colab": {
      "provenance": [],
      "toc_visible": true,
      "authorship_tag": "ABX9TyNkvXZQnMLLz17JEseJW0CZ",
      "include_colab_link": true
    },
    "kernelspec": {
      "name": "python3",
      "display_name": "Python 3"
    },
    "language_info": {
      "name": "python"
    }
  },
  "cells": [
    {
      "cell_type": "markdown",
      "metadata": {
        "id": "view-in-github",
        "colab_type": "text"
      },
      "source": [
        "<a href=\"https://colab.research.google.com/github/com0040/offline_alpaco/blob/main/%EC%84%B1%EB%8A%A5_%ED%96%A5%EC%83%81_%EA%B8%B0%EB%B2%95_%EC%8B%A4%EC%8A%B5_.ipynb\" target=\"_parent\"><img src=\"https://colab.research.google.com/assets/colab-badge.svg\" alt=\"Open In Colab\"/></a>"
      ]
    },
    {
      "cell_type": "markdown",
      "source": [
        "장기 프로젝트 -> 유용\n",
        "\n",
        "---\n",
        "\n",
        "전반적 개념이해가 중요\n",
        "\n",
        "    머신러닝 향상 기법\n",
        "\n",
        "    - 성능문제는 둘중 하나\n",
        "\n",
        "    1. 오버핏\n",
        "\n",
        "    2. 언더핏\n",
        "\n",
        "    - 해결법 \n",
        "\n",
        "    1. 데이터 핸들링\n",
        "\n",
        "    2. 모델 핸들링\n",
        "\n",
        "모델 핸들링(이미지,텍스트 차이 x)\n",
        "\n",
        "- 모델을 선택 하는 것도 유의미(모델마다 상이한 복잡도)\n",
        "\n",
        "- 선택한 모델 : 세부 파라미터(무엇으로 복잡도를 늘리고 줄이는지) 핸들링\n",
        "\n",
        "- 규제를 완화? 강화?\n",
        "\n",
        "- 앙상블(일반화 -> 경향 파악)\n",
        "    \n",
        "    - 여러 모델을 붙이는 이유 : 경향파악 (편향을 막겠다.)\n",
        "    \n",
        "    - 트레인셋, 테스트셋 오차의 이해 -> 결론 : 테스트 셋의 오차최소\n",
        "\n",
        "        1. 트레인 셋의 오차 감소 + 트레인 셋의 경향 파악(일반화)\n",
        "\n",
        "            - 지금 오버핏 -> 일반화에 방점\n",
        "\n",
        "            - 지금 언더핏 -> 에이다 부스트\n",
        "\n",
        "95점 50점 -> 오버핏? 해봐야안다.\n",
        "\n",
        "그리고 그 상황만 가지고 상대적 평가가 유효하지 않을 수 있다.\n",
        "\n",
        "- 어떤 관점을 보고 가야하나?\n",
        "\n",
        "최소한 3개를 찍어보고 가라 (높혀도 보고 낮춰도 봐라)\n",
        "\n",
        "---\n",
        "\n",
        "내가 그 순간을 찾아도 끊자못함 -> 확신 x\n",
        "\n",
        "\n",
        "\n"
      ],
      "metadata": {
        "id": "YLcWR4h4eAc1"
      }
    },
    {
      "cell_type": "markdown",
      "source": [
        "---\n",
        "\n",
        "파일을 csv로 저장하는게  구차해 - pkl, pickle\n",
        "\n",
        "---\n",
        "\n",
        "모델도 저장가능\n",
        "\n",
        "---\n",
        "\n",
        "경로 \n",
        "\n",
        "---\n",
        "\n",
        "검증셋 바꾸기 -k fold\n",
        "\n",
        "모델 10개 - 교차검증\n",
        "\n",
        "- 10개의 결과 : 10번 시행 \n",
        "\n",
        "\n"
      ],
      "metadata": {
        "id": "ZXai6yfTvgmR"
      }
    },
    {
      "cell_type": "markdown",
      "source": [
        "SVM (Support Vector Mechine)\n",
        "\n",
        "- 오차 최소화 + 마진(경계선과 데이터셋과의 거리)\n",
        "\n",
        "$ Cost = 오차 + \\frac{1}{마진} $\n",
        "\n",
        "서포트 백터 = 마진을 결정짓는 서포트 백터 + 경계선보다 가까운(오차를 일으키는) 백터 \n",
        "\n",
        "% # 오차를 일으킨다? -> 서포트 백터\n",
        "\n",
        "&&& 마진을 계산해보세요 나중에.\n",
        "\n",
        "점과 직선사이의 거리 = $ \\frac{1}{weight} $ = 마진\n",
        "\n",
        "마진을 최대 = 규제전략이다"
      ],
      "metadata": {
        "id": "QvXzkVC-C5yh"
      }
    },
    {
      "cell_type": "markdown",
      "source": [
        "시각화 공부 \n",
        "\n",
        "- 종류 , x , y \n",
        "\n",
        "Feature Importances 시각화\n",
        "\n",
        "모델의 성능에 따라\n",
        "\n",
        "피처의 중요도의 신뢰도가 결정된다."
      ],
      "metadata": {
        "id": "CJoBisd3WBqQ"
      }
    },
    {
      "cell_type": "code",
      "source": [],
      "metadata": {
        "id": "rJmvOFOuhykB"
      },
      "execution_count": null,
      "outputs": []
    },
    {
      "cell_type": "markdown",
      "source": [],
      "metadata": {
        "id": "zWoq27fYh2LC"
      }
    }
  ]
}