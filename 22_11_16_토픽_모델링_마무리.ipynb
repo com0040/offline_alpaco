{
  "nbformat": 4,
  "nbformat_minor": 0,
  "metadata": {
    "colab": {
      "provenance": [],
      "authorship_tag": "ABX9TyO7Ypq6oCOLYNUMoCZ7ohMm",
      "include_colab_link": true
    },
    "kernelspec": {
      "name": "python3",
      "display_name": "Python 3"
    },
    "language_info": {
      "name": "python"
    }
  },
  "cells": [
    {
      "cell_type": "markdown",
      "metadata": {
        "id": "view-in-github",
        "colab_type": "text"
      },
      "source": [
        "<a href=\"https://colab.research.google.com/github/com0040/offline_alpaco/blob/main/22_11_16_%ED%86%A0%ED%94%BD_%EB%AA%A8%EB%8D%B8%EB%A7%81_%EB%A7%88%EB%AC%B4%EB%A6%AC.ipynb\" target=\"_parent\"><img src=\"https://colab.research.google.com/assets/colab-badge.svg\" alt=\"Open In Colab\"/></a>"
      ]
    },
    {
      "cell_type": "markdown",
      "source": [
        "# 토픽 모델링\n"
      ],
      "metadata": {
        "id": "Jp6i8jNBIt73"
      }
    },
    {
      "cell_type": "markdown",
      "source": [
        "워드 클라우드와의 차이\n",
        "\n",
        "- 문서안에 어떤 토픽? 혼재\n",
        "\n",
        "- 단순히 빈도수 = 워드클라우드\n",
        "\n",
        "잠재 의미 분석 -> LSA\n",
        "\n"
      ],
      "metadata": {
        "id": "EnF7CqntI5YV"
      }
    },
    {
      "cell_type": "markdown",
      "source": [
        "Bow를 기반한 DTM - 토큰의 묶음\n",
        "\n",
        "희소문[제 해결 불가\n",
        "\n",
        "SVD -> 차원을 줄이겠다.(차원축소) = 특이값 분해\n",
        "\n",
        "중요한 애들만 뽑을 것이다.\n",
        "\n",
        "PCA = 차원축소(중요한 피처)\n",
        "\n",
        "\n"
      ],
      "metadata": {
        "id": "etPINsf2KGEb"
      }
    },
    {
      "cell_type": "markdown",
      "source": [
        "# SVM 은 분해고 분해하고자하는 것은 행렬(DTM)이고 세개의 행렬로 나뉘어짐\n",
        "\n"
      ],
      "metadata": {
        "id": "9p2UtwajMDA_"
      }
    },
    {
      "cell_type": "markdown",
      "source": [
        "## 그 중 우선순위(c) 중앙 행렬을 뽑으면 \n",
        "\n",
        "중요한 것만 남겨서 요약하는 것 차원축소\n",
        "\n",
        "1. 하나의 문장에 여러 토픽 : 그러나 하나의 토픽에 관련됀 것으로 묶어\n",
        "\n",
        "관련도 ->\n",
        "\n",
        "토큰의 리스트가 -> 내 생각 = 토픽의 나열 (문장)\n",
        "\n",
        "- 토픽 모델링 -> 엉망(못 믿어) , 토픽이라고 규정(어렵) = 품질이 낮은 것이다.\n",
        "\n"
      ],
      "metadata": {
        "id": "mLmWVpm_MWlQ"
      }
    },
    {
      "cell_type": "markdown",
      "source": [
        "## 문서에 토픽의 확률 분포\n",
        "\n",
        "- 계산 말할 수 없다.(나중에)\n",
        "\n",
        "- 디리클레 분포 - 어려워\n",
        "\n",
        "    - 여러문서 : 문서안에 - 각각 확률은 양수\n",
        "\n",
        "- 확률분포라는 이야기\n",
        "\n",
        "- 내가 찾고자하는 토픽은 2개야 - 다른 건 없어\n",
        "\n",
        "- 제주도 50 놀다 50 나머지는 없다.\n",
        "\n",
        "상위 2개만 계산 -> 나머지는 버려\n",
        "\n"
      ],
      "metadata": {
        "id": "a5WAKdezST-Z"
      }
    },
    {
      "cell_type": "markdown",
      "source": [
        "## 잠재 디리클레 할당 의 핵심은\n",
        "\n",
        "적절한 토픽 수를K 결정 -> 내가\n",
        "\n",
        "- 계산하는 방법은?\n",
        "\n",
        "    1. 혼잡도 : 특정 확률 모형이 실제 관측 값과 유사한지 보는 척도.\n",
        "\n",
        "    2. 토픽 응집도 : 각 토큰에서 상위 비중을 차지하는 단어들이 의미적으로 유사한지\n"
      ],
      "metadata": {
        "id": "yenf1KGQVFme"
      }
    },
    {
      "cell_type": "markdown",
      "source": [
        "## 수치화 하려는 이유\n",
        "\n",
        "보조지표 - 우리가 보면 알지만\n",
        "\n",
        "보통 토픽수가 올라가면 1. 토픽 응집도 하락 2. 혼잡도 상승"
      ],
      "metadata": {
        "id": "eh_Uo3lvX_ud"
      }
    },
    {
      "cell_type": "markdown",
      "source": [
        "# 문서요약\n",
        "\n",
        "1. 추출적 요약\n",
        "\n",
        "2. 추상적 요약 - 딥러닝에서 배우니 넘어가자\n",
        "\n",
        "- page Rank : 인용\n",
        "\n",
        "    - 피인용 지수 -> 중요하지만 / 유명인이 인용하면 더 가중치를 줄 것인가?\n",
        "\n",
        "    1. 페이지 : - 참조 수 + 누가 참조했는가.\n",
        "\n",
        "-> 너무 좋은데?\n",
        "\n",
        "- 텍스트 랭크 : 페이지 랭크를 인용할 것이다\n",
        "\n",
        "    1. 토큰이 페이지 대신 \n",
        "\n",
        "    2. 한문장에 들어 있다 = 인용 되었다.\n",
        "\n",
        "    3. 토큰의 중요도를 계산한다.\n",
        "\n",
        "    4. 중요도가 높은 토큰을 뽑아서 요약한다.\n",
        "\n",
        "- 젠심 : 10개로 요약해 40퍼센트로 요약해 -> 몇 분으로 강의 요약할건지\n",
        "\n",
        "---\n",
        "\n",
        "- 문서 요약 평가방식 : \n",
        "\n",
        "1. 사람의 직관이 우선이 -> 점수가 높아도 이상한 것은 이상한 것.\n",
        "\n",
        "2. 실재값중에 몇개나 포함하는지 - ROUGE - N 로 평가한다.\n",
        "\n",
        "    - ROUGE - 1 은 unigram에서의 recall 값을 말한다.\n",
        "\n",
        "- 요약 강의"
      ],
      "metadata": {
        "id": "CGEvJRYuY6iI"
      }
    },
    {
      "cell_type": "code",
      "execution_count": null,
      "metadata": {
        "id": "8XInYI7FB02l"
      },
      "outputs": [],
      "source": []
    }
  ]
}