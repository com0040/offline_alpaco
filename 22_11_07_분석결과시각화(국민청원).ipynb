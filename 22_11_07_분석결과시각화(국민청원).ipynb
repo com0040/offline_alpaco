{
  "nbformat": 4,
  "nbformat_minor": 0,
  "metadata": {
    "colab": {
      "provenance": [],
      "authorship_tag": "ABX9TyP8zLBgIpazEc+55TyLR4UC",
      "include_colab_link": true
    },
    "kernelspec": {
      "name": "python3",
      "display_name": "Python 3"
    },
    "language_info": {
      "name": "python"
    }
  },
  "cells": [
    {
      "cell_type": "markdown",
      "metadata": {
        "id": "view-in-github",
        "colab_type": "text"
      },
      "source": [
        "<a href=\"https://colab.research.google.com/github/com0040/offline_alpaco/blob/main/22_11_07_%EB%B6%84%EC%84%9D%EA%B2%B0%EA%B3%BC%EC%8B%9C%EA%B0%81%ED%99%94(%EA%B5%AD%EB%AF%BC%EC%B2%AD%EC%9B%90).ipynb\" target=\"_parent\"><img src=\"https://colab.research.google.com/assets/colab-badge.svg\" alt=\"Open In Colab\"/></a>"
      ]
    },
    {
      "cell_type": "markdown",
      "source": [
        "플로틀리"
      ],
      "metadata": {
        "id": "gNAAsr3Saw5h"
      }
    },
    {
      "cell_type": "code",
      "execution_count": null,
      "metadata": {
        "id": "gi0TOpeZamJA"
      },
      "outputs": [],
      "source": [
        "%matplotlib inline\n"
      ]
    },
    {
      "cell_type": "markdown",
      "source": [
        ".info() # KB = 무시가능, GB = 메모리 잘써야함\n",
        "\n",
        "sns.heatmap(df_petition.isnull(), cbar=False) # isnull -> 결측치를 하얗게 띄울것\n",
        "\n",
        "isnull <-> notnull # 반대기능\n",
        "\n",
        "len(df_petition['number'].unique()) # 중복 제거 (.unique()), 목록띄우기\n",
        "\n",
        "len(df_petition[''].unique())\n",
        "\n",
        "df_petition['progress'].describe() # 기초 통계치 암기되야함 / 나중에 쓰기위함. / 실습 x 라서 암기해야함.\n",
        "\n",
        "- object형 컬럼을 describe \n",
        "- count = 전체, unique = 1 청원진행중, top 맨위 열 이름, 청원진행중인 갯수\n",
        "\n",
        "#### votes(object) -> int화\n",
        "\n",
        "쉼표를 제거하고 int돌려야함.( .replace(',', ''))\n",
        "\n",
        "votes 컬럼에 모든 값에 replace() 적용.\n",
        "\n",
        "    df_petition.votes ( = df_petition['votes'])\n",
        "\n",
        "    df_petition.votes.replace(',','') -> 열의 value를 돌면서 ,라는 밸류를 널값으로 \n",
        "    -> 우리가 원하는 것 = 밸류안에 쉼표를 바꾸겠다.\n",
        "\n",
        "    df_petition.votes.str.replace(',','') -> 문자열 매서드로서의 replace\n",
        "\n",
        "    -> 적용하고 싶은 다른 매서드들도 앞에 str을 붙여라.\n",
        "\n",
        "df_petition['votes'] = df_petition.votes.str.replace(',', '').astype(int)\n",
        "\n",
        "\n"
      ],
      "metadata": {
        "id": "jxow0F6LcMWH"
      }
    },
    {
      "cell_type": "code",
      "source": [],
      "metadata": {
        "id": "RvfeGItNhzLz"
      },
      "execution_count": null,
      "outputs": []
    },
    {
      "cell_type": "markdown",
      "source": [
        "\n",
        "    count       854.000000\n",
        "    mean       4159.176815\n",
        "    std       19451.273475\n",
        "    min         108.000000\n",
        "    25%         318.000000 -> 분기\n",
        "    50%         708.500000 \n",
        "    75%        1995.750000\n",
        "    max      388844.000000\n",
        "    Name: votes, dtype: float64\n",
        "\n",
        "통계 = 기술통계 + 추론통계\n",
        "\n",
        "- 기술통계 : 내가 가진 데이터를 설명하기위한 통걔\n",
        "\n",
        "    - 기술통계 : 중심성 분석 + 분산도 분석\n",
        "\n",
        "     - 중심성 : \n",
        "     - 분산도 : 평균으로부터 얼마나 흩어져있나\n",
        "\n",
        "- 추론통계 : 다른 데이터를 추론\n",
        "\n",
        "1. 기술통계치 \n",
        "\n",
        "    - 분위수(데이터를 등급화함) : Quantile ⏰ 암기\n",
        "\n",
        "        - 4분위수 : Quartile\n",
        "            - 1분위(25%)\n",
        "            - 2분위(50%) - 중위수(10명일때 5,6등의 평균)\n",
        "            - 3분위(75%) \n",
        "            - 4분위(100%) - 1등\n",
        "        - 10분위수\n",
        "        - 100분위수 등등\n",
        "\n",
        ": 평균값 vs 중위수 -> 치우침(왜도)를 확인할 줄 알아야함."
      ],
      "metadata": {
        "id": "xpQ8suxLhzfy"
      }
    },
    {
      "cell_type": "code",
      "source": [
        "df_petition['votes'].iplot(kind='hist') # 히스토그램 = 빈도수, iplot = 판다스 자체에서 플랏을 그리는 법\n",
        "# 확실히 치우쳐있네"
      ],
      "metadata": {
        "id": "s9VpQTBipllY"
      },
      "execution_count": null,
      "outputs": []
    },
    {
      "cell_type": "markdown",
      "source": [
        "1. plotly.graph_objects\n",
        "\n",
        "2. "
      ],
      "metadata": {
        "id": "V_HAZJ9lp5h7"
      }
    },
    {
      "cell_type": "code",
      "source": [
        "from plotly.subplots import make_subplots\n",
        "import plotly.graph_objects as go # 줄임말\n",
        "\n",
        "fig = make_subplots(rows=4, cols=1, subplot_titles=(\"전체\", \"중위값 미만\", \"중위값 이상\", \"상위 10%\"))\n",
        "# 4행 1열로 그릴것이다. 도화지이다\n",
        "fig.add_trace(go.Histogram(x=df_petition['votes']), row=1, col=1)\n",
        "# 도화지에 어디에 그릴지 할당\n",
        "# 중위값 미만 \n",
        "fig.add_trace(\n",
        "  go.Histogram(x=df_petition['votes'][df_petition['votes'] < df_petition['votes'].median()]), \n",
        "row=2, col=1) # 문법을 보자, [원하는열][원하는 조건 = 중위값 미만]\n",
        "\n",
        "# 중위값 이상\n",
        "fig.add_trace(\n",
        "  go.Histogram(x=df_petition['votes'][df_petition['votes'] >= df_petition['votes'].median()]),\n",
        "row=3, col=1)\n",
        "\n",
        "# 상위 10%\n",
        "fig.add_trace(\n",
        "  go.Histogram(x=df_petition['votes'][df_petition['votes'] >= df_petition['votes'].quantile(0.9)]),\n",
        "row=4, col=1)\n",
        "\n",
        "fig.update_layout(height=1200, width=800) # 도화지 크기를 정해서\n",
        "fig.show() # 보여달라고 한다."
      ],
      "metadata": {
        "id": "_2Enz-RPqc0H"
      },
      "execution_count": null,
      "outputs": []
    },
    {
      "cell_type": "markdown",
      "source": [
        "df_petition['votes'].iplot(kind='box')\n",
        "\n",
        "= 박스플랏 -> 4분위수 그리기 : 분포도\n",
        "\n",
        "- 1.5배 이상 넘어서면 이상치다."
      ],
      "metadata": {
        "id": "FYQq3GAts_mP"
      }
    },
    {
      "cell_type": "code",
      "source": [
        "# 가장 참여인원이 많은 청원\n",
        "df_petition.sort_values([\"votes\"], ascending=[False]).head(5)\n",
        "# sort_valuse = 정렬 / cols, indexs, values - 3형제\n",
        "# 오름차순 -> 큰 값이 맨 밑 / 내림차순 -> 큰 값이 맨 위\n",
        "# 두 열을 기준을 넣을수도 있다.\n",
        "# head 가장큰값 5개 / tail 가장 작은값 5개"
      ],
      "metadata": {
        "id": "RuXY3Wwtt9n-"
      },
      "execution_count": null,
      "outputs": []
    },
    {
      "cell_type": "markdown",
      "source": [
        "df_petition['category'].describe(include='O') # defult가 숫자형을 분석 / 'O' 오브젝트만 / 'all' 전부다 분석할 것이다.\n",
        "- 하나를 잡을때는 굳이 안해도됨\n"
      ],
      "metadata": {
        "id": "NMuSd_Fzu_Fa"
      }
    },
    {
      "cell_type": "code",
      "source": [
        "# 일자 -> 일자리\n",
        "df_petition['category'] = df_petition['category'].map(lambda x: x.replace('일자', '일자리'))\n",
        "# map 함수 -> df혹은 df컬럼(시리즈)에 사용 (커스텀한 함수를 사용할때)\n",
        "# df_petition['category'] = df_petition['category'].replace('일자', '일자리')\n",
        "# x자리에 컬럼값이 들어온다.\n",
        "df_petition['category'].unique()"
      ],
      "metadata": {
        "id": "omsw4kZRxdOH"
      },
      "execution_count": null,
      "outputs": []
    },
    {
      "cell_type": "markdown",
      "source": [
        "나만의 custum function을 컬럼(시리즈,Series)에 적용하기\n",
        "\n",
        "1. 시리즈 -> 함수 적용\n",
        "2. 데이터 프레임 -> 함수 적용\n",
        "\n",
        "- map(), apply()\n",
        "\n",
        "#### map 은 시리즈\n",
        "\n",
        "- 시리즈 : map\n",
        "\n",
        "- 데이터 프레임 : apply -> 모든 컬럼에 일괄 적용\n",
        "\n",
        "▶ 처음에는 쉽게 외자"
      ],
      "metadata": {
        "id": "PykTD0i_yrYI"
      }
    },
    {
      "cell_type": "code",
      "source": [
        "import plotly.express as px\n",
        "import plotly.graph_objects as go\n",
        "# 그래프 시각화 툴(고급)"
      ],
      "metadata": {
        "id": "r8qmWc1s3HYM"
      },
      "execution_count": null,
      "outputs": []
    },
    {
      "cell_type": "code",
      "source": [
        "# px.histogram(x = df_petition['category'], color = df_petition['category']) # 불-편\n",
        "px.histogram(df_petition, x = 'category', color = 'category') # 편 - 안\n",
        "fig.add_trace(go.Histogram(x=df_petition['votes']), row=1, col=1) # 디테일 한 부분이 다르다"
      ],
      "metadata": {
        "id": "iLcz_M3i4B1f"
      },
      "execution_count": null,
      "outputs": []
    },
    {
      "cell_type": "markdown",
      "source": [
        "#### date\n",
        "\n",
        "1. 데이터 프레인에서 특정 **시리즈의 형변환**\n",
        "\n",
        "**시리즈.astype(타입)**\n",
        "\n",
        "**pd.to_타입(시리즈)** \n",
        "\n",
        "ex)df_petition['start'] = pd.to_datetime(df_petition.start, format='%Y-%m-%d')\n",
        "\n",
        "---\n",
        "\n",
        "특정 시리즈를 기준으로 집계 \n",
        "\n",
        "예) df_petition\n",
        "\n",
        "-> A.groupby(B) : df_pettion.groupby(start).count()\n",
        "\n",
        "---\n",
        "\n",
        "데이터 분석의 전과정(EDA)\n",
        "\n",
        "수집 -> 데이터 이해(탐색) : 분석 계획 수립 -> 전처리 -> 모델링, 학습\n",
        "-> 검증 \n",
        "\n",
        "    데이터 확인작업 -> \n",
        "\n",
        "---\n",
        "\n",
        "데이터 분석 1. 사람의 인지능력 2. AI\n",
        "\n",
        "1. 정형 데이터 : table - data\n",
        "2. 비정형 데이터 : 이미지 택스트\n",
        "3. 반정형 데이터 : json , html\n",
        "\n",
        "---\n",
        "\n",
        "#### 테이블 핸들링의 시작은 00 이다.\n",
        "\n",
        "- 뽑기다. 필요한 일부만 뽑아내는 것. 1) 열뽑기 2) 행뽑기\n",
        "\n",
        "### 테이블 핸들링의 끝은 전처리다.\n",
        "\n",
        "1) 정제 : 클리닉 - 이상치, 오타 => 분석 가능하도록 만드는 것\n",
        "\n",
        "2) 가공 : 변형 - 보다나은 분석을 가능하게 (파생변수)"
      ],
      "metadata": {
        "id": "_DAvDCvF4am1"
      }
    },
    {
      "cell_type": "markdown",
      "source": [
        "### 4. ♑ 시각화 공부법 (3가지만 알면 된다)\n",
        "\n",
        "차트 좀 그려주세요 -> 분기별(x) 매출액(y)\n",
        "- 최소정보 + 2(색 구분 기준, 서브 플롯 구분 기준)\n",
        "\n",
        "    1. 플롯 종류\n",
        "\n",
        "    2. x값\n",
        "\n",
        "    3. y값\n",
        "\n",
        "### 공부 단계\n",
        "\n",
        "1. 1단계) 결과를 보고 위 3가지 정보 보고 생각한 다음 코드보기 - 리딩\n",
        "\n",
        "    디테일은 버린다.(나머지는 눈에 익으면 찾아서 치면됌)\n",
        "\n",
        "    - 종류, X는?, Y는? => 코드 (머릭속에 떠오르는 것을 생각 가능한가\n",
        "\n",
        "2. 2단계) 결과를 보고 코드를 생각 - 롸이팅\n",
        "\n",
        "3. 3단계) 본인 스스로 그리고 싶은 결과물을 생각하고 코드로 구현한다. - 띵킹\n",
        "\n",
        "---\n",
        "\n",
        "- 분위수 : quentile()\n",
        "\n",
        "        1Q : quentile(0.25)\n",
        "        2Q : quentile(0.5)\n",
        "        3Q : quentile(0.75)\n",
        "        4Q : quentile(1.0)\n",
        "\n",
        "---\n",
        "\n",
        "\n",
        "\n"
      ],
      "metadata": {
        "id": "EOUrKyWE8pCI"
      }
    },
    {
      "cell_type": "markdown",
      "source": [
        "\n",
        "### 5. 분산도 계산과 이해\n",
        "\n",
        "- 평균으로부터 데이터가 얼마나 떨어져 있는가? -> 분산, 표준편차\n",
        "\n",
        "    - 분산 : (X-m)^2 - 왜 제곱을 하는가? -> (A) 상쇄를 방지 : 양수와 음수를 더하면 0이므로\n",
        "\n",
        "    - 더한 값/데이터의 갯수 = 분산(var)\n",
        "\n",
        "    - 표준편차(std) : 분산에 루트씌운 값\n",
        "\n",
        "- 중위값으로부터 데이터가 얼마나 떨어져 있는가? -> IQR\n",
        "\n",
        "    - 중위값과 data들과 떨어진 거리 = HOW??\n",
        "\n",
        "    - IQR() : 3분위 - 1분위 / 3분위 ~ 1분위 떨어진 거리 \n",
        "\n",
        "        - gap이 크면 흩어져, 작으면 중앙에 몰려(크면 빈부격차, 작으면 공산국)\n",
        "\n",
        "        - 몰려있는가 = 첨도, 치우쳐있는가 = 왜도\n",
        "\n",
        "- Box plot : 3Q + 1.5 * IQR ~ 1Q + 1.5 * IQR "
      ],
      "metadata": {
        "id": "BvxLgWdckGvT"
      }
    },
    {
      "cell_type": "markdown",
      "source": [
        "### 6번째 머신러닝은 추론통계의 방법론 중 하나다.\n",
        "\n",
        "- 내가 가진 데이터가 대표다 ! -> 가지고 있지 않은 데이터를 추론\n",
        "\n",
        "     - 대변해줘야 의미있다. -> 표본집단 \n",
        "\n",
        "     - 데이터 대량 / 소량 있다 -> 머신러닝은 대량일때 잘 통한다\n",
        "\n",
        "     - 기술의 발전 -> 대량 데이터도 처리가능해졌다\n",
        "\n",
        "\n"
      ],
      "metadata": {
        "id": "jZnqCTb8j6jo"
      }
    },
    {
      "cell_type": "markdown",
      "source": [
        "### 7번째 머신러닝 만능주의에서 벗어나라.\n",
        "\n",
        "- 추리 통계 기법에는 다양한 기법이 있다. -> 상황에 맞는 방법을 쓰자.\n",
        "\n",
        "- 데이터 의존도가 높다. -> 딥러닝 만능주의\n",
        "\n",
        "    - 딥러닝 우월주의에서 벗어나야한다. \n",
        "    \n",
        "    - (데이터가 많아야하고 / 복잡한 문제를 잘푼다.) \n",
        "    \n",
        "    - #경험적으로 깨닫게 되는 것이다.\n"
      ],
      "metadata": {
        "id": "ZW8BDFsmlWV0"
      }
    },
    {
      "cell_type": "markdown",
      "source": [
        "### 워드 클라우드\n",
        "\n",
        "- 빈도수 -> 크기"
      ],
      "metadata": {
        "id": "Ia_qsIVqm_cK"
      }
    },
    {
      "cell_type": "code",
      "source": [
        "!pip install wordcloud"
      ],
      "metadata": {
        "id": "EYL9lfsCnI5z"
      },
      "execution_count": null,
      "outputs": []
    },
    {
      "cell_type": "code",
      "source": [
        "# 코랩에서 Mecab 설치 \n",
        "!apt-get update\n",
        "!apt-get install g++ openjdk-8-jdk \n",
        "!pip3 install konlpy JPype1-py3\n",
        "!bash <(curl -s https://raw.githubusercontent.com/konlpy/konlpy/master/scripts/mecab.sh)"
      ],
      "metadata": {
        "id": "9dozM4isnK_B"
      },
      "execution_count": null,
      "outputs": []
    },
    {
      "cell_type": "code",
      "source": [
        "from konlpy.tag import Mecab\n",
        "from collections import Counter\n",
        "\n",
        "# Mecab 객체 생성\n",
        "mecab = Mecab()\n",
        "\n",
        "# 명사 리스트 생성\n",
        "nouns = []\n",
        "for title in df_petition['title']:\n",
        "  noun = mecab.nouns(title)\n",
        "  nouns.extend(noun) # append와의 차이 알아두자\n",
        "\n",
        "print(nouns)\n",
        "\n",
        "# 명사 빈도 카운트\n",
        "count = Counter(nouns) # 숫자를 센다.[리스트에 담아준다.] <-> .value_counts()\n",
        "\n",
        "display(count)"
      ],
      "metadata": {
        "id": "8PnuoDEbnP3k"
      },
      "execution_count": null,
      "outputs": []
    },
    {
      "cell_type": "code",
      "source": [
        "from wordcloud import WordCloud\n",
        "\n",
        "wc=WordCloud(font_path='/usr/share/fonts/truetype/nanum/NanumBarunGothic.ttf', # 폰트\n",
        "             background_color='white', width=1000, height=1000, max_words=100, max_font_size=300) # 바탕색 / 워드클라우드 크기\n",
        "wc.generate_from_frequencies(dict(count)) # 카운터(딕셔너리는 아님=포장지가 카운터)를 딕셔너리로 바꾸어서 제너레잇하겠다.\n",
        "wc.to_file(\"wc_title.png\") # png로 저장"
      ],
      "metadata": {
        "id": "4FNoAno5pZ1I"
      },
      "execution_count": null,
      "outputs": []
    },
    {
      "cell_type": "code",
      "source": [
        "import cv2 # 이미지 핸들링\n",
        "img = cv2.imread('wc_title.png', cv2.IMREAD_UNCHANGED) # 이미지 읽기 \n",
        "cv2_imshow(img) # 저장한거 보여줘"
      ],
      "metadata": {
        "id": "S50aTROVp0Jh"
      },
      "execution_count": null,
      "outputs": []
    },
    {
      "cell_type": "markdown",
      "source": [
        "###  불용어팁 \n",
        "\n",
        "1. 마이너한거 넣을 필요  없다.\n",
        "\n",
        "2. 빈도수 많은 위주로 -> 워클로 보고 지우자.\n",
        "\n",
        "3. try -> 수정\n",
        "\n",
        "4. 반복"
      ],
      "metadata": {
        "id": "0XGUeNh8qft8"
      }
    },
    {
      "cell_type": "markdown",
      "source": [
        "#### 3. 마스크 이미지에 워드 클라우드 생성\n",
        "\n",
        "- 이미지에 씌울것이다."
      ],
      "metadata": {
        "id": "ObCV_kNLrDSt"
      }
    },
    {
      "cell_type": "code",
      "source": [
        "import requests\n",
        "from wordcloud import WordCloud, ImageColorGenerator\n",
        "from google.colab.patches import cv2_imshow\n",
        " \n",
        "# 마스크 이미지를 url에서 불러오기\n",
        "url = 'https://raw.githubusercontent.com/rasbt/datacollect/master/dataviz/twitter_cloud/twitter_mask.png'\n",
        "resp = requests.get(url)\n",
        "\n",
        "with open('twitter_mask.png', 'wb') as f:\n",
        "    f.write(resp.content)"
      ],
      "metadata": {
        "id": "lydvRglirHsO"
      },
      "execution_count": null,
      "outputs": []
    }
  ]
}