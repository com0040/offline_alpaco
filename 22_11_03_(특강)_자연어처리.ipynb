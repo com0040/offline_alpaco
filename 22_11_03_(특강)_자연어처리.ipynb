{
  "nbformat": 4,
  "nbformat_minor": 0,
  "metadata": {
    "colab": {
      "provenance": [],
      "authorship_tag": "ABX9TyO+BMHI570VORTro/T4rRlJ",
      "include_colab_link": true
    },
    "kernelspec": {
      "name": "python3",
      "display_name": "Python 3"
    },
    "language_info": {
      "name": "python"
    }
  },
  "cells": [
    {
      "cell_type": "markdown",
      "metadata": {
        "id": "view-in-github",
        "colab_type": "text"
      },
      "source": [
        "<a href=\"https://colab.research.google.com/github/com0040/offline_alpaco/blob/main/22_11_03_(%ED%8A%B9%EA%B0%95)_%EC%9E%90%EC%97%B0%EC%96%B4%EC%B2%98%EB%A6%AC.ipynb\" target=\"_parent\"><img src=\"https://colab.research.google.com/assets/colab-badge.svg\" alt=\"Open In Colab\"/></a>"
      ]
    },
    {
      "cell_type": "markdown",
      "source": [
        "이원재 - 선배\n",
        "\n",
        "인공지능 = 그중 하나는 깊게 나머지는 시키면 할 줄 아는 정도\n",
        "\n",
        "프론트 - 백엔드\n",
        "\n",
        "- ui : 프론트 - 데이터가 날라오는것\n",
        "\n",
        ": 백엔드 - 계산"
      ],
      "metadata": {
        "id": "TSybBP3S5Nr0"
      }
    },
    {
      "cell_type": "code",
      "execution_count": null,
      "metadata": {
        "id": "FnTlR1Vz4ljd"
      },
      "outputs": [],
      "source": []
    },
    {
      "cell_type": "markdown",
      "source": [
        "    - 프로젝트 도움 \n",
        "\n",
        "    - 실무 : 도움 주신다\n",
        "\n",
        "---\n",
        "\n",
        "### 1.머신러닝 - 딥러닝 차이\n",
        "\n",
        "1. 인공지능 : 두뇌 구현 \n",
        "\n",
        "2. 머신 러닝 : 숨겨진 패턴 - 인공지능 구현의 하나\n",
        "\n",
        "3. 딥 러닝 : 인공신경망 - 머신러닝 종류\n",
        "\n",
        "---\n",
        "\n",
        "\n",
        "#### 인공신경망 \n",
        "\n",
        "- 퍼셉트론 : 기초 - 뉴런과 비슷한 시스템\n",
        "\n",
        "- 뉴런 : (1)복수의 신호를 받아 (2)새로운 신호 (3)다른 뉴런에 전달\n",
        "\n",
        "\n",
        "    ex) 오늘의 온 습 풍향 -> 내일 미세먼지\n",
        "\n",
        "---\n",
        "\n",
        "### 최적의 값을 찾아 가는 것 = 딥러닝\n",
        "\n",
        "- 자연어(챗봇), 컴퓨터 비전(옵젝트 디텍션), 추천 시스템(유플릭스)\n",
        "\n",
        "---\n",
        "\n",
        "### 머신러닝 : (1) 지도 (2) 비지도 (3) 강화 학습\n",
        "\n",
        "(1) 지도학습 : \n",
        "\n",
        "    분류 - 회귀\n",
        "\n",
        "(2) 비지도 학습 : \n",
        "\n",
        "    클러스터링 : 비슷한 분류로 묶어라\n",
        "    토픽 모델링 : 주제별로 묶는 것\n",
        "\n",
        "(3) 강화 학습 : \n",
        "\n",
        "ex) 그리드 게임 - 로봇이 목표지점으로 가는 게임\n",
        "\n",
        "    1. 환경 상태 집합(S) - 로봇이 위치할 수 있는 모든 경우의 수\n",
        "    2. 행동 집합(a) - 상하좌우\n",
        "    3. 보상(R) - 초기상태 \n",
        "\n",
        "목표 분명 -> 무한? 특정 상태? : 개발 목적에 따라 누적이면 무한이될 듯\n",
        "\n",
        "- 감가율(언제 보상을 얻었냐에 따라 가치를 변화시킴)\n",
        "\n",
        "        한번 액션의 대가를 감가율로 학습 \n"
      ],
      "metadata": {
        "id": "D13ceHH55xoS"
      }
    },
    {
      "cell_type": "code",
      "source": [],
      "metadata": {
        "id": "_wEjs5bv-06m"
      },
      "execution_count": null,
      "outputs": []
    },
    {
      "cell_type": "markdown",
      "source": [
        "### 2. Data\n",
        "\n",
        "가치 - 사용하는 사람마다 다름. \n",
        "\n",
        "인공지능 관점에서 -> 모든 데이터는 숫자여야함\n",
        "\n",
        "    ex) 이미지 = 픽셀 + 색(RGB) : 행렬\n",
        "\n",
        "    ex2) 단어? = 의미를 부여했다. (사회적 합의) : 숫자로 표현 어렵 : 벡터\n",
        "\n",
        "워드 임베딩 -> 결과 = 벡터로 변환 (how? 비슷한 단어 = 비슷한 벡터 : 목적\n",
        "\n",
        "---\n",
        "\n",
        "숫자 = 텐서라고 정의\n",
        "\n",
        "데이터 X -> 데이터셋(복수) \n",
        "\n",
        "    벡터 = 숫자(위치정보만) : 1D tensor\n",
        "\n",
        "    행렬 = 행, 열 : 2D tensor\n",
        "\n",
        "데이터 = 2d , 데이터셋 = 3d 텐서\n",
        "\n",
        "---\n",
        "\n",
        "데이터셋 분리\n",
        "\n",
        "1. train, test, validation set\n",
        "\n",
        "훈련 -> 익숙해져 , 테스트 -> 추론\n",
        "\n",
        "-> 오퍼피팅, 언더피팅 : 문제 발생 (학습지 , 모의고사 , 수능)\n",
        "\n",
        "---\n",
        "\n",
        "Data set 이 매우 큰 경우가 종종 있다.\n",
        "\n",
        "- mini batch : 그럴때 쓰는 방법 (epoch - 생성:많이 돌려야함)\n",
        "\n",
        "- 에폭 끝나고 평가 - 학습은 누적\n",
        "\n",
        "K - Fold Cross Validation : 데이터 량이 적을때 (서비스 불가능)\n",
        "\n",
        "---"
      ],
      "metadata": {
        "id": "LpNV4LfH-1OI"
      }
    },
    {
      "cell_type": "code",
      "source": [],
      "metadata": {
        "id": "rSr0gqp7IIAf"
      },
      "execution_count": null,
      "outputs": []
    },
    {
      "cell_type": "markdown",
      "source": [
        "### 3. 자연어처리\n",
        "\n",
        ": 의미를 담는 언어 - 영어, 한국어 \n",
        "\n",
        "- 자연어를 입력으로 -> 처리\n",
        "\n",
        "    1. 문서이해 등등\n",
        "\n",
        "- 분류 (난이도 차이 X)\n",
        "\n",
        "    1. 저차원 : 단어기준 \n",
        "\n",
        "    2. 고차원 : 문장기준 \n",
        "\n",
        "개발자 측면 - 입.출력\n",
        "\n",
        "- 분석 기법: 입출력\n",
        "\n",
        "    1. N21 -> 주제 출력 : 감성 분석 / 주제 분류\n",
        "    2. N2N -> 형태소 분석 / 개체명 분석\n",
        "    3. N2Path -> 의존구문 분석 / 구문 분석\n",
        "    4. N2M -> 번역 / 대화\n",
        "\n",
        "@ 요청이 많은 곳 : 개체명 분석, 번역, 챗봇 / 생성 - 골치\n",
        "\n",
        "---\n",
        "\n",
        "#### 장애물 \n",
        "\n",
        "1. 중의적 표현 -> 그래서 어려운 것이다. ex) 배 : 허들\n",
        "\n",
        "2. 규칙의 예외성 \n",
        "\n",
        "-> 모델 개발 or 데이터 양으로 승부 \n",
        "\n",
        "-> 양질의 데이터를 가지고 있는 것이 중요하다 (수집이 어렵다.)\n",
        "\n",
        "- 대기업이 유리 - 데이터 수집에 유리(데이터 소중)\n",
        "\n",
        "의료쪽 -> 인공지능 : 틀리면 안돼 + 신뢰문제\n",
        "\n",
        "3. 언어의 유연성과 확장성\n",
        "\n",
        "\n",
        "#### 해결을 위한 방법\n",
        "\n",
        "예전에 - 룰베이스 (대량 문장 = 코퍼스)\n",
        "\n",
        "1. 머신러닝 베이스\n",
        "\n",
        "    - 이미지 분류, 심전도로 사람 분류 -> 사람보다 나을 수 있음.\n",
        "\n"
      ],
      "metadata": {
        "id": "YJS74LleIITB"
      }
    }
  ]
}