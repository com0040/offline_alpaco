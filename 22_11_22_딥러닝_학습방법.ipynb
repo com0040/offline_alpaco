{
  "nbformat": 4,
  "nbformat_minor": 0,
  "metadata": {
    "colab": {
      "provenance": [],
      "toc_visible": true,
      "authorship_tag": "ABX9TyP3Rg9mwPAnnqCcr60UbutG",
      "include_colab_link": true
    },
    "kernelspec": {
      "name": "python3",
      "display_name": "Python 3"
    },
    "language_info": {
      "name": "python"
    }
  },
  "cells": [
    {
      "cell_type": "markdown",
      "metadata": {
        "id": "view-in-github",
        "colab_type": "text"
      },
      "source": [
        "<a href=\"https://colab.research.google.com/github/com0040/offline_alpaco/blob/main/22_11_22_%EB%94%A5%EB%9F%AC%EB%8B%9D_%ED%95%99%EC%8A%B5%EB%B0%A9%EB%B2%95.ipynb\" target=\"_parent\"><img src=\"https://colab.research.google.com/assets/colab-badge.svg\" alt=\"Open In Colab\"/></a>"
      ]
    },
    {
      "cell_type": "markdown",
      "source": [
        "# 1) 딥러닝"
      ],
      "metadata": {
        "id": "y4KR_eVtpvRT"
      }
    },
    {
      "cell_type": "markdown",
      "source": [
        "생물의 뇌\n",
        "\n",
        "퍼셉트론 = 시작(로젠 블렛)"
      ],
      "metadata": {
        "id": "wjbYOipLpyhH"
      }
    },
    {
      "cell_type": "markdown",
      "source": [
        "# 2) 머신러닝"
      ],
      "metadata": {
        "id": "VgEe7NdWp5T7"
      }
    },
    {
      "cell_type": "markdown",
      "source": [
        "민 코스트 웨잇"
      ],
      "metadata": {
        "id": "vhjT5y2QqC_R"
      }
    },
    {
      "cell_type": "markdown",
      "source": [
        "# 3) 이미지에 사용할 하이퍼 티디즈를 찾기위해"
      ],
      "metadata": {
        "id": "Rt8aU698p3dK"
      }
    },
    {
      "cell_type": "markdown",
      "source": [
        "딥러닝을 사용하니 좋았다."
      ],
      "metadata": {
        "id": "p2vaVYLLqL5a"
      }
    },
    {
      "cell_type": "markdown",
      "source": [
        "# 4) 이미지 뿐만이 아니다."
      ],
      "metadata": {
        "id": "058jcSxcqQEA"
      }
    },
    {
      "cell_type": "markdown",
      "source": [
        "자연어 처리에도 능하다."
      ],
      "metadata": {
        "id": "9ojTqP7VqUMf"
      }
    },
    {
      "cell_type": "markdown",
      "source": [
        "# 5) 선형분류기 - 퍼셉트론"
      ],
      "metadata": {
        "id": "-yeADjyfqWOv"
      }
    },
    {
      "cell_type": "markdown",
      "source": [
        "비선형에 한계"
      ],
      "metadata": {
        "id": "XaLLeqbGqtrO"
      }
    },
    {
      "cell_type": "markdown",
      "source": [
        "## ㄱ. 다층퍼셉트론"
      ],
      "metadata": {
        "id": "UWkC2S1Sqw4x"
      }
    },
    {
      "cell_type": "markdown",
      "source": [
        "비선형 가능하지만 학습이 불가"
      ],
      "metadata": {
        "id": "0aVX0A_1qyfl"
      }
    },
    {
      "cell_type": "markdown",
      "source": [
        "### a. 인공지능은 불가하다 판단"
      ],
      "metadata": {
        "id": "xA3WielUq16r"
      }
    },
    {
      "cell_type": "markdown",
      "source": [
        "로지스틱 분류 - 시그모이드 (같은 말이다)"
      ],
      "metadata": {
        "id": "G6cjhbJKrDwM"
      }
    },
    {
      "cell_type": "markdown",
      "source": [
        "### b. 비선형의 핵심은 활성화 함수"
      ],
      "metadata": {
        "id": "my0GefiprQ73"
      }
    },
    {
      "cell_type": "markdown",
      "source": [
        "### c. 또 다른 관점"
      ],
      "metadata": {
        "id": "zk4blD7ariuE"
      }
    },
    {
      "cell_type": "markdown",
      "source": [
        "두 덩어리로 나누어서 생각"
      ],
      "metadata": {
        "id": "02ITL84KrwsQ"
      }
    },
    {
      "cell_type": "markdown",
      "source": [
        "#### d. 맨 끝층은 선형 분류기"
      ],
      "metadata": {
        "id": "9dxkhPaWrzdi"
      }
    },
    {
      "cell_type": "markdown",
      "source": [
        "x를 a차원으로 바꾸어 선형분류"
      ],
      "metadata": {
        "id": "UVZE4Vu_sCK7"
      }
    },
    {
      "cell_type": "markdown",
      "source": [
        "## ㄴ. 모델의 웨이트 갯수"
      ],
      "metadata": {
        "id": "GHeEBDzysGJH"
      }
    },
    {
      "cell_type": "markdown",
      "source": [
        "중요한 이유"
      ],
      "metadata": {
        "id": "HLVvo9RPsXdD"
      }
    },
    {
      "cell_type": "markdown",
      "source": [
        "### a. 복습"
      ],
      "metadata": {
        "id": "CyVDduLHsZSh"
      }
    },
    {
      "cell_type": "markdown",
      "source": [
        "한번정도 구해보면 좋다."
      ],
      "metadata": {
        "id": "2Ee1M8FSsc-l"
      }
    },
    {
      "cell_type": "markdown",
      "source": [
        "### b. 내가 모르는 부분을 알 수 있다."
      ],
      "metadata": {
        "id": "y8S9ie6Xsfu_"
      }
    },
    {
      "cell_type": "markdown",
      "source": [
        "### c. 모델복잡도를 간접적으로 나타냄"
      ],
      "metadata": {
        "id": "-vn9-s05sk8b"
      }
    },
    {
      "cell_type": "markdown",
      "source": [
        "웨이트의 크기 = 모델복잡도 크기\n",
        "\n",
        "웨이트의 갯수 -> 모델 복잡도와 관련없지 않다. "
      ],
      "metadata": {
        "id": "4qh75RQZstqL"
      }
    },
    {
      "cell_type": "markdown",
      "source": [
        "# 6) 딥러닝 역사"
      ],
      "metadata": {
        "id": "jkadWtmmta-U"
      }
    },
    {
      "cell_type": "markdown",
      "source": [
        "알아두자"
      ],
      "metadata": {
        "id": "gbFEqbe0uHjB"
      }
    },
    {
      "cell_type": "markdown",
      "source": [
        "## ㄱ. XOR 문제"
      ],
      "metadata": {
        "id": "Jglkg1NxuI7y"
      }
    },
    {
      "cell_type": "markdown",
      "source": [
        "선형만 가능하자나"
      ],
      "metadata": {
        "id": "27kwtC3BuOvK"
      }
    },
    {
      "cell_type": "markdown",
      "source": [
        "## a. 다층으로 해결"
      ],
      "metadata": {
        "id": "Ov9xQ5jCuQix"
      }
    },
    {
      "cell_type": "markdown",
      "source": [
        "학습은 안되네"
      ],
      "metadata": {
        "id": "b6ER-7XRuYeD"
      }
    },
    {
      "cell_type": "markdown",
      "source": [
        "## ㄴ. 이른시점 기울기 소실"
      ],
      "metadata": {
        "id": "083xzuBEub0E"
      }
    },
    {
      "cell_type": "markdown",
      "source": [
        "초깃값 설정과 활성화 함수 채택"
      ],
      "metadata": {
        "id": "IrskrL8DuhyB"
      }
    },
    {
      "cell_type": "markdown",
      "source": [
        "## ㄷ. 알렉스 우승"
      ],
      "metadata": {
        "id": "SMUpeYocummQ"
      }
    },
    {
      "cell_type": "markdown",
      "source": [
        "# 7) 오차 역전파"
      ],
      "metadata": {
        "id": "MMR_RWauupbS"
      }
    },
    {
      "cell_type": "markdown",
      "source": [
        "웨이트를 업데이트하는 방향"
      ],
      "metadata": {
        "id": "REBAZ1THus4p"
      }
    },
    {
      "cell_type": "markdown",
      "source": [
        "## ㄱ. 순전파 역전파"
      ],
      "metadata": {
        "id": "zWrQAA9tvBRk"
      }
    },
    {
      "cell_type": "markdown",
      "source": [
        "순전파로 Y를 계산\n",
        "\n",
        "역전파로 오차 계산"
      ],
      "metadata": {
        "id": "pccc1NyVvDma"
      }
    },
    {
      "cell_type": "markdown",
      "source": [
        "### a. 여섯개의 웨이트가 다 코스트에 영향을 준다"
      ],
      "metadata": {
        "id": "TAwDKgsdvfvx"
      }
    },
    {
      "cell_type": "markdown",
      "source": [
        "따로따로 계산하고 싶어졌다."
      ],
      "metadata": {
        "id": "IsDNjN4PvpyR"
      }
    },
    {
      "cell_type": "markdown",
      "source": [
        "### b. 표기법"
      ],
      "metadata": {
        "id": "jMR-jI9YvsL-"
      }
    },
    {
      "cell_type": "markdown",
      "source": [
        "## ㄴ. 체인룰"
      ],
      "metadata": {
        "id": "7nbdAT1ow2Ac"
      }
    },
    {
      "cell_type": "markdown",
      "source": [
        "알아보자"
      ],
      "metadata": {
        "id": "iFNnPVfAw5lH"
      }
    },
    {
      "cell_type": "markdown",
      "source": [
        "### a. 합성함수"
      ],
      "metadata": {
        "id": "IMfGThpew8l6"
      }
    },
    {
      "cell_type": "markdown",
      "source": [
        "함수의 출력이 다음 함수의 입력으로"
      ],
      "metadata": {
        "id": "_BfQ_zznw-cm"
      }
    },
    {
      "cell_type": "markdown",
      "source": [
        "### b. 미분"
      ],
      "metadata": {
        "id": "hVcHMePGxId8"
      }
    },
    {
      "cell_type": "markdown",
      "source": [
        "딥러닝은 합성함수\n",
        "\n",
        "이걸 미분하려니\n",
        "\n",
        "합성함수의 미분을 알아야한다."
      ],
      "metadata": {
        "id": "Ye-t5ONdxLBn"
      }
    },
    {
      "cell_type": "markdown",
      "source": [
        "### c. 계산"
      ],
      "metadata": {
        "id": "sKw2u9HGxRbZ"
      }
    },
    {
      "cell_type": "markdown",
      "source": [
        "자잘한 함수 미분(기울기)해서 곱해준다.\n",
        "\n",
        "연쇄법칙"
      ],
      "metadata": {
        "id": "L3ByDOBkxU3Y"
      }
    },
    {
      "cell_type": "markdown",
      "source": [
        "### d. 웨이트가 어디있든"
      ],
      "metadata": {
        "id": "VtMyrymLxm90"
      }
    },
    {
      "cell_type": "markdown",
      "source": [
        "각각 구해서 곱해주자."
      ],
      "metadata": {
        "id": "MevHFllnyKFW"
      }
    },
    {
      "cell_type": "markdown",
      "source": [
        "### e. 제로센터링"
      ],
      "metadata": {
        "id": "hK6bf-L-5nIO"
      }
    },
    {
      "cell_type": "markdown",
      "source": [
        "양수와 음수가 공존하게"
      ],
      "metadata": {
        "id": "AUpXPTbW5p_Q"
      }
    },
    {
      "cell_type": "markdown",
      "source": [
        "## ㄷ. 기울기 소실(너무 이른)"
      ],
      "metadata": {
        "id": "Xs1gE7vr5rhm"
      }
    },
    {
      "cell_type": "markdown",
      "source": [
        "합성함수 체인룰을 쓰니 앞으로 갈수록 오차전달안됨"
      ],
      "metadata": {
        "id": "7snU84rR7vhz"
      }
    },
    {
      "cell_type": "markdown",
      "source": [
        "### a. 시그모이드(로지스틱) 기울기"
      ],
      "metadata": {
        "id": "DWVqOhhH71CP"
      }
    },
    {
      "cell_type": "markdown",
      "source": [
        "합성함수라서 퍼셉트론 마다 시그모이드 존재하므로 \n",
        "\n",
        "그 기울기 값이 0에서 4분의 1로 작기때문에 \n",
        "\n",
        "오차의 전달이 안됀다."
      ],
      "metadata": {
        "id": "Gnrz3DH_77y5"
      }
    },
    {
      "cell_type": "markdown",
      "source": [
        "### b. 직관적 이해"
      ],
      "metadata": {
        "id": "OIxR4QdN8NBu"
      }
    },
    {
      "cell_type": "markdown",
      "source": [
        "오차는 큰데 \n",
        "\n",
        "# 오차 커\n",
        "\n",
        "## 오차 커\n",
        "\n",
        "### 오차 커\n",
        "\n",
        "#### 오차 커\n",
        "\n",
        "##### 오차 커\n",
        "\n",
        "###### 오차 커 \n",
        "\n",
        "\n",
        "\n"
      ],
      "metadata": {
        "id": "yGrz48V58Q7b"
      }
    },
    {
      "cell_type": "markdown",
      "source": [
        "## ㄹ. 로지스틱 대신 쓸 함수"
      ],
      "metadata": {
        "id": "cayWogds8oB1"
      }
    },
    {
      "cell_type": "markdown",
      "source": [
        "비선형의 핵심이라 함수 단을 뺄 수는 없고"
      ],
      "metadata": {
        "id": "Pr5gbbXf9pmw"
      }
    },
    {
      "cell_type": "markdown",
      "source": [
        "### a. 비선형 연산과 기울기소실"
      ],
      "metadata": {
        "id": "bdpT7kt69tr_"
      }
    },
    {
      "cell_type": "markdown",
      "source": [
        "렐루로 해결\n",
        "\n",
        "![image.png](data:image/png;base64,iVBORw0KGgoAAAANSUhEUgAAAQMAAADCCAIAAADCcDA5AAAM9ElEQVR4nO3dbUxb1xkH8NPCZlIXdSQrEa060SbTSEKmlWZN3GxrvEmr5m2oS1upFaRVKFFHtVgicSVW8mkJbSpUGERhVcBIK1CqpZCqERWLGlCXFFoH8jJQsCZertRlLgZsomDwJXa8D0d1UXoI95pz3/+/T5iX5xw7/fucaz89viuRSBAAy7tb6wkA6AKSAEAIkgBAIQkAhCAJABSSAEAIkgBAIQkAhCAJABSSAEAIkgBAIQkAhCAJABSSAEAIkgBAIQkAhCAJABSSAEAIkgBAIQkAhCAJABSSAEAIIelKD+B2ux/fvl3pUcBqQjMzW7dudTqdvAoqnoTHt28vLipSehSwmnA4fPnyZY4FFd8diaKo9BBgQTdjMb4FcZ0AQAiSAEAhCQCEIAmgZ5Oz85Oz8+qMhSSAfj197PyNhZvqjIUkgE519o0Vbs7emHOfOsMp/n4CQApEUSw5NTJb/TvVRsSaAHr0QkN/b9kONUdEEkB3+ka+evC+jEcf+b6ag2J3BLrjah6YOfoblQfFmgD6UtE20LHn0bS0NJXHRRJAR0YD16/878avfvyg+kNjdwQ6sq3m3Jd/+bUmQ2NNAL2oOT107Lc/ylzzXU1GRxJAFyZn598duLZn1w+1mgCSALrw9LHz/yz/hYYTQBJAeyf7xgs3Z6//3j0azoHnFbPf7+/s7AyHw0eOHLHZbBwrg4ndWFjcd+qqmo0VTDzXhHA47HA4HnrooVgsRgiZmZkJTk3dunWL4xBgPi+906dyYwUT51dRFxYW0tPTI/Pzdrt9amoqHA7fXFzkOwSYiSaNFUw814Sx8fGsrKxYLDYfiRBC8vLyHA6HLSOD4xBgMq7mgb++9FOtZ0EI3yQUFxXZbLbCwsLc3FyOZcGstGqsYOL82lFBQQFiAFJo2FjBhG4L0Maz7/Sfq/il1rP4Bt5PAA3UnB466NygVWMFE5IAatO8sYIJSQC1ad5YwYQkgKr00FjBhCtmUI9OGiuYsCaAenTSWMGEJIBK9NNYwYTdEahk5wlforZQ61ksC2sCqKGibeCTvY9pPYs7QRJAcXprrGDC7ggUp+GJFdJhTQBlaXtihXRIAihIn40VTEgCKEifjRVMSAIoRbeNFUy4YgZF6LmxgglrAihCz40VTEgC8Kfzxgom7I6As3g8rslHgawS1gTgrPL9S/o5sUI6JAF4MkRjBRN2R8CT3k6skA5rAnCjwxMrpOOchMampta2Nr41wRAM1FjBxHN31NDQsGPHji1btnCsCUZhoMYKJp5rwuDgICHktddei8fjhJDe3l5vc3Nkbo7jEKBPnX1jz/0kxyiNFUw8k7Bhw4aCgoK8vLxoNEoIcTqdL5eU2O+9l+MQoEM3FhZLTo0c+P1WrSeyKjyTcPDgwfr6+k2bNtntdo5lQecM11jBxPM6wWazud1ujgVB/4zYWMGE9xNgVYzYWMGE9xMgdbr6KJBVQhIgRcZtrGDC7ghSZIgTK6TDmgCpMMqJFdIhCSCb0RsrmJAEkM3ojRVMSALIc7Jv3OiNFUy4YgYZDHdihXRYE0AGczRWMCEJIJVpGiuYsDsCSQx6YoV0WBNAEoOeWCEdkgArGw1c/09wzjSNFUzYHcHKTNZYwYQ1AVZgvsYKJiQB7sSUjRVMSALciSkbK5iQBFiWWRsrmHDFDGwmbqxgwpoAbCZurGBCEoDB3I0VTNgdAYO5GyuYsCbA7cx0YoV0nJMgCEJ/fz/fmqAmKzRWMHFOwnvvvXfhwgW+NUFNz77T//c/PqH1LDTAMwmdnZ1lZWXJm729vY1NTTgr20AM/VEgq8QzCePj4+3t7Z2dnaIoEkKcTue+0lKclW0U1mmsYOL52pHH4yGE5Obm2mw2jmVBHU/V/ssijRVM/F87crlc3GuC0k72jb+47UGLNFYw4f0EsFxjBRPeTwDLNVYwIQlWZ8HGCibsjqxu5wlforZQ61loD2uCpVW0DXyy9zGtZ6ELSIJ1meyjQFYJuyPrssKJFdJhTbAoi5xYIR2SYEUWb6xgQhKsyDonVkiHJFiOpU6skA5XzNaCxorlYE2wFjRWLAdJsJCz/76GxorlYHdkIc+0XLLaiRXSYU2wCmueWCEdkmAJl8anrXlihXTYHVmC82+fo7HizrAmmB8aK6RAEkxucnb+5OUAGitWhCSY3NPHzn+4/2daz8IAkAQzQ2OFdLhiNi00VsiCNcG00FghC88k+P3+1ra2cDjMsSakBo0VcvFMQkZGxgvPP0/PhARtPdNy6VgJFgQZeF4n5ObmiqKYk5NDb/b29o6OjS3Mz3McAqTY3/x5x55HtZ6FwfBcE+Lx+KFDh44cOUJv4qxsTYwGro/OLKCxQi6eSaitrX344Ydb29o41gS5ttWc+8efdmo9C+Phf2o8aKjm9FDjHzajsSIFeBXVPOiJFc898YjWEzEkJME8LP5RIKuEJJgEPgpkldBtYQZorFg9rAlmgMaK1UMSDA+NFVxgd2R4z7Rcwr5o9bAmGBs9sULrWZgBkmBgOLGCI+yODAwnVnCENcGo0FjBF5JgSGis4A5JMCR8FAh3SILx4MQKJeCK2WDQWKEQrAkGg8YKhSAJRtI38hUaKxSC3ZGRuJoHsC9SCNYEw8CJFYpCEoxhNHD92vUoGiuUg92RMWyrOYfGCkVhTTAANFaoAEnQOzRWqANJ0DucWKEOzkkQRTEej/OtaWU4sUI1PK+YBUH44IMPJicnjx49is/9XT00VqiJZxI+/vjj8vLyK1eu+Hw+h8Ph9/sDgYAYjS73+zWnhziObj7vDlwbOPBzrWdhFQq+irp+/fq169aNjo0t9wvOLTnKjW50iQQp3PaDjTn3aT0Rq+CZBJfLVVtbS3dHhJCsrCxCyN13L3spgv4Z0A/OnyRSVlaWkZGBiwQwHM67I7vdzrcggDrwfgIAIUgCGNR30jlvZxTvwJsYH/c2NzN/FA6FstauXf0QqGPBOuFQaOdOrh+ildDOicZG1LFgnSavl0sdvrTcHeVv2YI6FqyzedMmLnX4uiuRSGg9BwDtabAmRCKRcDhMv56ZmVnasRePx4NTU9JLxeNxQRAEQYhEIvQ74XBYEIRkfemCU1OCIIiimPyOIAhyi9A6ycmkNp9wOLx0GqIopnB3yLfmTx8ouf2RyUc4+Z2l/3zSRSIRWid511Kbj3I0SMKpDz984403CCHDw8Odp05VVFQkf1ReXn7mzJne3l6JpWKxWCAQ+Oijj3w+H/3O22+/PTc3dzMWkzurP1dUzM3NJW96m5uvXr166NAhWUWCU1MDFy7U1dUl/9OROx9BELxe7+HDh2mc6Ie9t7e3+/1+WTPp7+8PBAJut5veFEXx+PHjS++gRD6f7/xnnyX/MBKJvPnmm16vV+7TRDQaDYVChw8fnp+fp3WamppSmI9yNEhCcVGRzWYjhHR3d+8rLd29e/fFixcJIYIg7Nq1q7io6OzZsxJL2Ww2h8MRDAadTif9zgMPPNDT0/PfL7+UOyu73d7d3U3/nQgh/pERl8uVnZ299Ol5Rdn33+9yufLy8qJf9x1mZ2f39PQEJyclVjjb01NWVlZcXEyz7fP5du/e/corr5w5c0bOvSEOh8PhcCRvpqenE0K6u7tjMp8jMjMzvwoEvvj6iebTTz8tLS0tKys729Mjq866desKCgrWrl1Le3AIIaIodnd3yyqiKDX+P2ZBEOgDd+vWrRf37LHZbPfc803DfTQazczMpF/PLyysWG14ePgLn89ms4mi+HJJiSiKS6u9+uqrhBC3211QUHDnOn6//7O+Pjqrkr176+vr4/H4W2+99frrryd/Z3FxMX2l160vXrx46fJlmu3ioiK/3x+enc3Ly6M/pc/Kbre7vr5+xbtGCKF1lt6UFcWlGhoaDhw4QL9OS0urrq6ORCLvtrTsKy2VXiQ/Pz8/P7+1rU0QhNzc3DVr1kSj0cXFxdvmKcXw8HDyCctut1dXVwenptrff7+4qEhuKUWo/3JVV1fXk08+OTIyMjExUVVV5fF4EolEXV1dIpGorKysq6sbHByUXq2ltXVkZISWDYVCHR0dLa2tx48flzWlaDTa5PVWVVUNDQ319fVNTEx0dXWdaGysrq6WVWcyGNy4cWNXV9f09HRHR8fc3FxLa2uT1yv9dcPJYLCysnLpY+LxeKqqqiYmJmTNpKOjY//+/V1dXbQOnUllZaXcOoODg7RUIpGgj6rH46msrJyenpZVh/4h/aKuri4UCrW0tno8HrnzUY4Grx2JokifaNPS0uLxOG3X+/YXEt32h/F4PBaLpfCMRWe1dEqiKKZQh05g6R1MbT5kFY8J/RNCCB2a/nlqd4cseRxSmMZtU1p6d1Kej0LwKioAIeg7AqCQBABCkAQACkkAIARJAKCQBABCkAQACkkAIARJAKCQBABCkAQA6v8ps/UTIQC4hQAAAABJRU5ErkJggg==)"
      ],
      "metadata": {
        "id": "iYS_9vPC91F3"
      }
    },
    {
      "cell_type": "markdown",
      "source": [
        "시그모이드 = 최대 1/4"
      ],
      "metadata": {
        "id": "BSoxPwq_-AN0"
      }
    },
    {
      "cell_type": "markdown",
      "source": [
        "렐루 : 양수 = 1\n",
        "\n",
        "음수 = 0\n",
        "\n",
        "역전파를 사용해도 줄어들지 않는다."
      ],
      "metadata": {
        "id": "in0ZZtJE-C4n"
      }
    },
    {
      "cell_type": "markdown",
      "source": [
        "### b. 렐루의 한계"
      ],
      "metadata": {
        "id": "McTJtudq_hrz"
      }
    },
    {
      "cell_type": "markdown",
      "source": [
        "0으로 만드는 과정에서 오차전달이 안돼서 베니싱 그래디언트\n",
        "\n",
        "그래도 오래 살아남아서 학습 가능"
      ],
      "metadata": {
        "id": "LXTEktMN_kOB"
      }
    },
    {
      "cell_type": "markdown",
      "source": [
        "## ㅁ. 초기화 방법"
      ],
      "metadata": {
        "id": "rukGILvZ_rIU"
      }
    },
    {
      "cell_type": "markdown",
      "source": [
        "성수역에 가야하면 근처에 떨어지는게 유리하다는 것을 안다."
      ],
      "metadata": {
        "id": "JZmqAY5XGv-n"
      }
    },
    {
      "cell_type": "markdown",
      "source": [
        "### a. 목적지 근처에 떨어지는 법"
      ],
      "metadata": {
        "id": "b5eq1P1NG2QC"
      }
    },
    {
      "cell_type": "markdown",
      "source": [
        "목적지에 상관없이 떨어지는 법 - RBM"
      ],
      "metadata": {
        "id": "WUTFoIbrG5u8"
      }
    },
    {
      "cell_type": "markdown",
      "source": [
        "초기 웨이트를 한번 학습\n",
        "\n",
        "- 다시 원복시켜 \n",
        "\n",
        "- 오차가 나올 건데 그것을 민 코스트 웨이트\n",
        "\n",
        ": 그게 왜 글로벌 미니멈과 가까울까"
      ],
      "metadata": {
        "id": "SREJ_IC6HYTG"
      }
    },
    {
      "cell_type": "markdown",
      "source": [
        "### b. 이미지 예시"
      ],
      "metadata": {
        "id": "GBAij6CELEKB"
      }
    },
    {
      "cell_type": "markdown",
      "source": [
        "1. 전처리\n",
        "\n",
        "2. 선형 분류\n",
        "\n",
        "    - 다르다고 생각하지만\n",
        "\n",
        "    - 그냥 전체가 전처리라고 볼수 있다.\n",
        "\n",
        "        - 마지막이 10으로 만드는\n",
        "\n",
        "        - Y(1,0,0,--- 0)\n",
        "\n",
        "        "
      ],
      "metadata": {
        "id": "8jEPc7_OLHJD"
      }
    },
    {
      "cell_type": "markdown",
      "source": [
        "![[알파코4기 강의교안]이미지인식 export_Page_1.jpg](data:image/jpeg;base64,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)"
      ],
      "metadata": {
        "id": "c_9ANcmfqeO6"
      }
    },
    {
      "cell_type": "markdown",
      "source": [
        "그래서 초기값도 이런 식으로"
      ],
      "metadata": {
        "id": "hdhlj2CqOveB"
      }
    },
    {
      "cell_type": "markdown",
      "source": [
        "### c. 비효율성"
      ],
      "metadata": {
        "id": "j1HkKr3MO0qf"
      }
    },
    {
      "cell_type": "markdown",
      "source": [
        "한번 학습하는 만큼 계산해야 초기값을 잡을 수 있다."
      ],
      "metadata": {
        "id": "FRvyWrkiO6F5"
      }
    },
    {
      "cell_type": "markdown",
      "source": [
        "### d.개선한 방법"
      ],
      "metadata": {
        "id": "oB6WK4VZO9Qv"
      }
    },
    {
      "cell_type": "markdown",
      "source": [
        "1. 자비에 글로럿\n",
        "\n",
        "- 웨이트 계산 해봐야 대부분 0 근처 -> 정규 분포에서 랜덤 세팅\n",
        "\n",
        "    - 어려운 표준편차 말고 쉬운건 안댐?\n",
        "\n",
        "    - 표준편차의 차이에 따라\n",
        "\n",
        "        - 1에 가까우면 : 기울기 소실\n",
        "\n",
        "        - 0에 가까우면 : 학습 진행 더딤 / \n",
        "\n",
        "    - 적당히 조절되면서 부여해야겟다."
      ],
      "metadata": {
        "id": "MxlUl7z7PMpG"
      }
    },
    {
      "cell_type": "markdown",
      "source": [
        "- 층이 깊어지면 노드수는 줄어드는게 일반적\n",
        "\n",
        "![image.png](data:image/png;base64,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)"
      ],
      "metadata": {
        "id": "u90429u8n5lz"
      }
    },
    {
      "cell_type": "markdown",
      "source": [
        "- 층에따라서 표준편차가 바뀐다.\n",
        "\n",
        "- 인풋 + 아웃풋으로 나누어주어서\n",
        "\n",
        "- 시그모이드 일때 성능이 좋다."
      ],
      "metadata": {
        "id": "rp9arkDWpCG2"
      }
    },
    {
      "cell_type": "markdown",
      "source": [
        "2. 케이밍 허\n",
        "\n",
        "- 인풋만 넣어서 나눈 값으로 하겠다.\n",
        "\n",
        "![image.png](data:image/png;base64,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)"
      ],
      "metadata": {
        "id": "2mskTP9FPk5h"
      }
    },
    {
      "cell_type": "markdown",
      "source": [
        "- 활성화 함수 렐루 일때 성능이 잘나온다."
      ],
      "metadata": {
        "id": "s-wkXUf5pR1i"
      }
    }
  ]
}