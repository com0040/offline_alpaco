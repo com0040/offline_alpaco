{
  "nbformat": 4,
  "nbformat_minor": 0,
  "metadata": {
    "colab": {
      "provenance": [],
      "authorship_tag": "ABX9TyNhigBstFfsZqP8xuZAuLyN",
      "include_colab_link": true
    },
    "kernelspec": {
      "name": "python3",
      "display_name": "Python 3"
    },
    "language_info": {
      "name": "python"
    }
  },
  "cells": [
    {
      "cell_type": "markdown",
      "metadata": {
        "id": "view-in-github",
        "colab_type": "text"
      },
      "source": [
        "<a href=\"https://colab.research.google.com/github/com0040/offline_alpaco/blob/main/22_11_29_%EB%85%BC%EB%AC%B8_%EB%A6%AC%EB%B7%B0(1).ipynb\" target=\"_parent\"><img src=\"https://colab.research.google.com/assets/colab-badge.svg\" alt=\"Open In Colab\"/></a>"
      ]
    },
    {
      "cell_type": "markdown",
      "source": [],
      "metadata": {
        "id": "GdcZ1jyARqH_"
      }
    },
    {
      "cell_type": "markdown",
      "source": [
        "# 연구자적 마인드"
      ],
      "metadata": {
        "id": "8AixW2HVRnvF"
      }
    },
    {
      "cell_type": "markdown",
      "source": [
        "조건을 달리해서 통제\n",
        "\n",
        "개선시키는 습관\n",
        "\n"
      ],
      "metadata": {
        "id": "xA6BX3rrRrTA"
      }
    },
    {
      "cell_type": "markdown",
      "source": [
        "# 스트라이드는 유지 / 오버래핑"
      ],
      "metadata": {
        "id": "aIL77PkDT_O0"
      }
    },
    {
      "cell_type": "markdown",
      "source": [
        "피처맵의 크기는 줄이지 않겠다.\n",
        "\n",
        "곂치는 영역이 많아진다 = 오버핏 방지"
      ],
      "metadata": {
        "id": "Wya0WwAqUFeH"
      }
    },
    {
      "cell_type": "markdown",
      "source": [
        "# 4개의 가장 중요\n",
        "\n",
        "1. 렐루\n",
        "\n",
        "2. 멀티 g-pu\n",
        "\n",
        "3. local response normalixaw\n",
        "\n",
        "4. 오버래핑 풀링\n",
        "\n"
      ],
      "metadata": {
        "id": "YGFTGqd2V6hL"
      }
    },
    {
      "cell_type": "markdown",
      "source": [
        "# 3x3 필터 vs 11x11 필터"
      ],
      "metadata": {
        "id": "-gwj1DmoWL5_"
      }
    },
    {
      "cell_type": "markdown",
      "source": [
        "왜이렇게 큰걸 썻는가?\n",
        "\n",
        "몰랐을것이다.\n",
        "\n",
        "우리의 직관과 닿아있는 부분이다."
      ],
      "metadata": {
        "id": "UBD12TqqcE1P"
      }
    },
    {
      "cell_type": "markdown",
      "source": [
        "큰 필터 vs 작은필터\n",
        "\n",
        "그 당시의 부담감 "
      ],
      "metadata": {
        "id": "4GW-2xXJcLg8"
      }
    },
    {
      "cell_type": "markdown",
      "source": [
        "# 계산해보자"
      ],
      "metadata": {
        "id": "NzmTc4xmf_xK"
      }
    },
    {
      "cell_type": "markdown",
      "source": [],
      "metadata": {
        "id": "k5m2W1oBgBfW"
      }
    },
    {
      "cell_type": "code",
      "execution_count": null,
      "metadata": {
        "id": "4A5K-RiYD406"
      },
      "outputs": [],
      "source": []
    }
  ]
}