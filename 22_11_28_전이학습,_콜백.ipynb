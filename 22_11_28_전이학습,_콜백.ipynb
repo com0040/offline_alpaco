{
  "nbformat": 4,
  "nbformat_minor": 0,
  "metadata": {
    "colab": {
      "provenance": [],
      "authorship_tag": "ABX9TyOJln1VPLUD279s+Djkuoll",
      "include_colab_link": true
    },
    "kernelspec": {
      "name": "python3",
      "display_name": "Python 3"
    },
    "language_info": {
      "name": "python"
    }
  },
  "cells": [
    {
      "cell_type": "markdown",
      "metadata": {
        "id": "view-in-github",
        "colab_type": "text"
      },
      "source": [
        "<a href=\"https://colab.research.google.com/github/com0040/offline_alpaco/blob/main/22_11_28_%EC%A0%84%EC%9D%B4%ED%95%99%EC%8A%B5%2C_%EC%BD%9C%EB%B0%B1.ipynb\" target=\"_parent\"><img src=\"https://colab.research.google.com/assets/colab-badge.svg\" alt=\"Open In Colab\"/></a>"
      ]
    },
    {
      "cell_type": "markdown",
      "source": [
        "# 기존에 학습된 모델을 가져오려면"
      ],
      "metadata": {
        "id": "7JGM-gdZne86"
      }
    },
    {
      "cell_type": "markdown",
      "source": [
        "입력 출력부분을 바꿔야함"
      ],
      "metadata": {
        "id": "bXuxukNnnifA"
      }
    },
    {
      "cell_type": "markdown",
      "source": [
        "# CNN 보틀넥 피처"
      ],
      "metadata": {
        "id": "dG5rzLRjok1b"
      }
    },
    {
      "cell_type": "markdown",
      "source": [
        "이미지가 국수처럼 길어짐`"
      ],
      "metadata": {
        "id": "XzDAgszyqi17"
      }
    },
    {
      "cell_type": "markdown",
      "source": [
        "trainable = False\n",
        "\n",
        "vs\n",
        "\n",
        "train = False\n",
        "\n"
      ],
      "metadata": {
        "id": "lqfG8EAFzGK0"
      }
    },
    {
      "cell_type": "markdown",
      "source": [
        "# 배치 노말리제이션"
      ],
      "metadata": {
        "id": "aK0N_l_mzLRM"
      }
    },
    {
      "cell_type": "markdown",
      "source": [
        "train = False 로 방지한다\n",
        "\n",
        "성능에 악영향"
      ],
      "metadata": {
        "id": "V5S_Ouri5Bm6"
      }
    },
    {
      "cell_type": "markdown",
      "source": [
        "# 콜백"
      ],
      "metadata": {
        "id": "iUnFMD-G_Bgo"
      }
    },
    {
      "cell_type": "markdown",
      "source": [
        "특정 이벤트 발생시 사용할 함수"
      ],
      "metadata": {
        "id": "wk23BLae_DyR"
      }
    },
    {
      "cell_type": "markdown",
      "source": [
        "## 얼리스탑"
      ],
      "metadata": {
        "id": "E21rWzIC_elM"
      }
    },
    {
      "cell_type": "markdown",
      "source": [
        "조건 :     \n",
        "1. 성능 판단 지표\n",
        "2. 성능개선 판단 정도\n",
        "3. 인내도\n",
        "4. 최고상태 결과 혹은 마지막 결과"
      ],
      "metadata": {
        "id": "4VeHerxG_lIa"
      }
    },
    {
      "cell_type": "markdown",
      "source": [
        "# 모델 저장"
      ],
      "metadata": {
        "id": "mGTjKh-sEaSZ"
      }
    },
    {
      "cell_type": "markdown",
      "source": [
        "1. 모델의 구조\n",
        "2. 모델의 웨이트"
      ],
      "metadata": {
        "id": "dqg35A9OEbvj"
      }
    },
    {
      "cell_type": "markdown",
      "source": [
        "기본적으로 덮어쓰면서 저장\n",
        "\n",
        "얼리스탑핑이랑 같이 쓸 수 있다\n",
        "\n",
        "매번 저장할 지 베스트만 저장할 지"
      ],
      "metadata": {
        "id": "V1zlOyNyEgN9"
      }
    },
    {
      "cell_type": "markdown",
      "source": [
        "체크포인트 = 웨이트만 저장\n",
        "\n",
        "h5, pb = 모델까지 저장"
      ],
      "metadata": {
        "id": "_jm1cmQhepI4"
      }
    },
    {
      "cell_type": "markdown",
      "source": [
        "new_model = tf.keras.models.load_model('saved_model/my_model')"
      ],
      "metadata": {
        "id": "9hDY4yaUd0DR"
      }
    },
    {
      "cell_type": "markdown",
      "source": [
        "매트릭스와 텐서\n",
        "\n",
        "h5와 pb의 차이\n",
        "\n",
        "객체 / 실행그래프 "
      ],
      "metadata": {
        "id": "lwBwx4d5ev-t"
      }
    },
    {
      "cell_type": "code",
      "execution_count": null,
      "metadata": {
        "id": "6l--iP3dikgL"
      },
      "outputs": [],
      "source": []
    }
  ]
}