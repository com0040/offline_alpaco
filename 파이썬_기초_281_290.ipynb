{
  "nbformat": 4,
  "nbformat_minor": 0,
  "metadata": {
    "colab": {
      "provenance": [],
      "authorship_tag": "ABX9TyNV++9cT+qE6yWVUmrLLF7g",
      "include_colab_link": true
    },
    "kernelspec": {
      "name": "python3",
      "display_name": "Python 3"
    },
    "language_info": {
      "name": "python"
    }
  },
  "cells": [
    {
      "cell_type": "markdown",
      "metadata": {
        "id": "view-in-github",
        "colab_type": "text"
      },
      "source": [
        "<a href=\"https://colab.research.google.com/github/com0040/offline_alpaco/blob/main/%ED%8C%8C%EC%9D%B4%EC%8D%AC_%EA%B8%B0%EC%B4%88_281_290.ipynb\" target=\"_parent\"><img src=\"https://colab.research.google.com/assets/colab-badge.svg\" alt=\"Open In Colab\"/></a>"
      ]
    },
    {
      "cell_type": "markdown",
      "source": [
        "# 281 클래스 정의\n",
        "다음 코드가 동작하도록 차 클래스를 정의하세요.\n",
        "\n",
        "    >> car = 차(2, 1000)\n",
        "    >> car.바퀴\n",
        "    2\n",
        "    >> car.가격\n",
        "    1000"
      ],
      "metadata": {
        "id": "Pcds7SlUN1TU"
      }
    },
    {
      "cell_type": "code",
      "execution_count": null,
      "metadata": {
        "colab": {
          "base_uri": "https://localhost:8080/"
        },
        "id": "iZ7gUQn8NPME",
        "outputId": "3a5c6947-3e78-42b1-f30e-19d2c03f08d6"
      },
      "outputs": [
        {
          "output_type": "stream",
          "name": "stdout",
          "text": [
            "2 1000\n"
          ]
        }
      ],
      "source": [
        "class 차 :\n",
        "    def __init__(self, 바퀴, 가격):\n",
        "        self.바퀴 = 바퀴\n",
        "        self.가격 = 가격\n",
        "\n",
        "car = 차(2, 1000)\n",
        "print(car.바퀴, car.가격)"
      ]
    },
    {
      "cell_type": "markdown",
      "source": [
        "# 282 클래스 상속\n",
        "차 클래스를 상속받은 자전차 클래스를 정의하세요."
      ],
      "metadata": {
        "id": "6gxRlbXpOeQ8"
      }
    },
    {
      "cell_type": "code",
      "source": [
        "class 차 :\n",
        "    def __init__(self, 바퀴, 가격):\n",
        "        self.바퀴 = 바퀴\n",
        "        self.가격 = 가격\n",
        "\n",
        "class 자전차(차):\n",
        "    pass"
      ],
      "metadata": {
        "id": "k8g_pBYpOb9p"
      },
      "execution_count": null,
      "outputs": []
    },
    {
      "cell_type": "code",
      "source": [
        "car = 자전차(2, 1000)\n",
        "print(car.바퀴, car.가격)"
      ],
      "metadata": {
        "colab": {
          "base_uri": "https://localhost:8080/"
        },
        "id": "INbCTiSEPEgo",
        "outputId": "bd60eaf0-d040-41e0-e3f0-7d9187100651"
      },
      "execution_count": null,
      "outputs": [
        {
          "output_type": "stream",
          "name": "stdout",
          "text": [
            "2 1000\n"
          ]
        }
      ]
    },
    {
      "cell_type": "markdown",
      "source": [
        "# 283 클래스 상속\n",
        "다음 코드가 동작하도록 자전차 클래스를 정의하세요. 단 자전차 클래스는 차 클래스를 상속받습니다.\n",
        "\n",
        "    >> bicycle = 자전차(2, 100)\n",
        "    >> bicycle.가격\n",
        "    100\n",
        "\n"
      ],
      "metadata": {
        "id": "8ENkKBYDO6Wq"
      }
    },
    {
      "cell_type": "code",
      "source": [
        "class 차:\n",
        "    def __init__(self, 바퀴, 가격):\n",
        "        self.바퀴 = 바퀴\n",
        "        self.가격 = 가격\n",
        "\n",
        "\n",
        "class 자전차(차):\n",
        "    def __init__(self, 바퀴, 가격):\n",
        "        self.바퀴 = 바퀴\n",
        "        self.가격 = 가격"
      ],
      "metadata": {
        "id": "SJwQzn5yZ93w"
      },
      "execution_count": null,
      "outputs": []
    },
    {
      "cell_type": "code",
      "source": [
        "bicycle = 자전차(2, 100)\n",
        "print(bicycle.가격)"
      ],
      "metadata": {
        "colab": {
          "base_uri": "https://localhost:8080/"
        },
        "id": "Nw18njzYaBvs",
        "outputId": "3725c133-3801-4aa0-9170-2e5961ee3fd4"
      },
      "execution_count": null,
      "outputs": [
        {
          "output_type": "stream",
          "name": "stdout",
          "text": [
            "100\n"
          ]
        }
      ]
    },
    {
      "cell_type": "markdown",
      "source": [
        "# 284 클래스 상속\n",
        "다음 코드가 동작하도록 자전차 클래스를 정의하세요. 단 자전차 클래스는 차 클래스를 상속받습니다.\n",
        "\n",
        "    >> bicycle = 자전차(2, 100, \"시마노\")\n",
        "    >> bicycle.구동계\n",
        "    시마노"
      ],
      "metadata": {
        "id": "63FFP2IhYwGL"
      }
    },
    {
      "cell_type": "code",
      "source": [
        "class 차:\n",
        "    def __init__(self, 바퀴, 가격):\n",
        "        self.바퀴 = 바퀴\n",
        "        self.가격 = 가격\n",
        "\n",
        "\n",
        "class 자전차(차):\n",
        "    def __init__(self, 바퀴, 가격, 구동계):\n",
        "        self.바퀴 = 바퀴\n",
        "        self.가격 = 가격\n",
        "        self.구동계 = 구동계"
      ],
      "metadata": {
        "id": "SMODnU9-aGSB"
      },
      "execution_count": null,
      "outputs": []
    },
    {
      "cell_type": "code",
      "source": [
        "bicycle = 자전차(2, 100, \"시마노\")\n",
        "bicycle.구동계"
      ],
      "metadata": {
        "colab": {
          "base_uri": "https://localhost:8080/",
          "height": 35
        },
        "id": "gvTcW8SgaPQK",
        "outputId": "7e70ec9b-7c5d-42dd-eb92-dad20d09a1f7"
      },
      "execution_count": null,
      "outputs": [
        {
          "output_type": "execute_result",
          "data": {
            "text/plain": [
              "'시마노'"
            ],
            "application/vnd.google.colaboratory.intrinsic+json": {
              "type": "string"
            }
          },
          "metadata": {},
          "execution_count": 8
        }
      ]
    },
    {
      "cell_type": "markdown",
      "source": [
        "# 285 클래스 상속\n",
        "다음 코드가 동작하도록 차 클래스를 상속받는 자동차 클래스를 정의하세요.\n",
        "\n",
        "    >> car = 자동차(4, 1000)\n",
        "    >> car.정보()\n",
        "    바퀴수 4\n",
        "    가격 1000"
      ],
      "metadata": {
        "id": "ENyUHd7sZqAJ"
      }
    },
    {
      "cell_type": "code",
      "source": [
        "class 차:\n",
        "    def __init__(self, 바퀴, 가격):\n",
        "        self.바퀴 = 바퀴\n",
        "        self.가격 = 가격\n",
        "\n",
        "\n",
        "class 자동차(차):\n",
        "    def __init__(self, 바퀴, 가격):\n",
        "        super().__init__(바퀴, 가격)\n",
        "\n",
        "    def 정보(self):\n",
        "        print(\"바퀴수 \", self.바퀴)\n",
        "        print(\"가격 \", self.가격)"
      ],
      "metadata": {
        "id": "1kYfHpz2PR4S"
      },
      "execution_count": null,
      "outputs": []
    },
    {
      "cell_type": "code",
      "source": [
        "car = 자동차(4, 1000)\n",
        "car.정보()"
      ],
      "metadata": {
        "colab": {
          "base_uri": "https://localhost:8080/"
        },
        "id": "t_H_riNSaXfo",
        "outputId": "c49eba5d-91b3-41aa-91ad-3650dfba722b"
      },
      "execution_count": null,
      "outputs": [
        {
          "output_type": "stream",
          "name": "stdout",
          "text": [
            "바퀴수  4\n",
            "가격  1000\n"
          ]
        }
      ]
    },
    {
      "cell_type": "markdown",
      "source": [
        "# 286 부모 클래스 생성자 호출\n",
        "다음 코드가 동작하도록 차 클래스를 수정하세요.\n",
        "\n",
        "    >> bicycle = 자전차(2, 100, \"시마노\")\n",
        "    >> bicycle.정보()\n",
        "    바퀴수 2\n",
        "    가격 100"
      ],
      "metadata": {
        "id": "v7nJ8x-tPYmy"
      }
    },
    {
      "cell_type": "code",
      "source": [
        "class 차:\n",
        "    def __init__(self, 바퀴, 가격):\n",
        "        self.바퀴 = 바퀴\n",
        "        self.가격 = 가격\n",
        "\n",
        "    def 정보(self):\n",
        "        print(\"바퀴수 \", self.바퀴)\n",
        "        print(\"가격 \", self.가격)\n",
        "\n",
        "class 자동차(차):\n",
        "    def __init__(self, 바퀴, 가격):\n",
        "        super().__init__(바퀴, 가격)\n",
        "\n",
        "\n",
        "class 자전차(자동차):\n",
        "    def __init__(self, 바퀴, 가격, 구동계):\n",
        "        super().__init__(바퀴, 가격)\n",
        "        self.구동계 = 구동계\n"
      ],
      "metadata": {
        "id": "1NaeTfpdPWbM"
      },
      "execution_count": null,
      "outputs": []
    },
    {
      "cell_type": "code",
      "source": [
        "bicycle = 자전차(2, 100, \"시마노\")\n",
        "bicycle.정보()"
      ],
      "metadata": {
        "colab": {
          "base_uri": "https://localhost:8080/"
        },
        "id": "KVc2UVYPPeF_",
        "outputId": "de974608-5697-4b38-e10f-b6c9bfba4262"
      },
      "execution_count": null,
      "outputs": [
        {
          "output_type": "stream",
          "name": "stdout",
          "text": [
            "바퀴수  2\n",
            "가격  100\n"
          ]
        }
      ]
    },
    {
      "cell_type": "markdown",
      "source": [
        "# 287 부모 클래스 메서드 호출\n",
        "자전차의 정보() 메서드로 구동계 정보까지 출력하도록 수정해보세요.\n",
        "\n",
        "    >> bicycle = 자전차(2, 100, \"시마노\")\n",
        "    >> bicycle.정보()\n",
        "    바퀴수 2\n",
        "    가격 100\n",
        "    구동계 시마노"
      ],
      "metadata": {
        "id": "yCkrkkrnQLzw"
      }
    },
    {
      "cell_type": "code",
      "source": [
        "class 차:\n",
        "    def __init__(self, 바퀴, 가격):\n",
        "        self.바퀴 = 바퀴\n",
        "        self.가격 = 가격\n",
        "\n",
        "    def 정보(self):\n",
        "        print(\"바퀴수 \", self.바퀴)\n",
        "        print(\"가격 \", self.가격)\n",
        "\n",
        "class 자동차(차):\n",
        "    def __init__(self, 바퀴, 가격):\n",
        "        super().__init__(바퀴, 가격)\n",
        "\n",
        "\n",
        "class 자전차(자동차):\n",
        "    def __init__(self, 바퀴, 가격, 구동계):\n",
        "        super().__init__(바퀴, 가격)\n",
        "        self.구동계 = 구동계\n",
        "\n",
        "    def 정보(self):\n",
        "        super().정보()\n",
        "        print(\"구동계 \", self.구동계)"
      ],
      "metadata": {
        "id": "zfRo-hMiQEns"
      },
      "execution_count": null,
      "outputs": []
    },
    {
      "cell_type": "code",
      "source": [
        "bicycle = 자전차(2, 100, \"시마노\")\n",
        "bicycle.정보()"
      ],
      "metadata": {
        "colab": {
          "base_uri": "https://localhost:8080/"
        },
        "id": "oa7lfBNlQO1g",
        "outputId": "6e85e3ce-0058-4b17-a652-8a76bdce1c6e"
      },
      "execution_count": null,
      "outputs": [
        {
          "output_type": "stream",
          "name": "stdout",
          "text": [
            "바퀴수  2\n",
            "가격  100\n",
            "구동계  시마노\n"
          ]
        }
      ]
    },
    {
      "cell_type": "markdown",
      "source": [
        "# 288 메서드 오버라이딩\n",
        "다음 코드의 실행 결과를 예상해보세요.\n",
        "\n",
        "    class 부모:\n",
        "        def 호출(self):\n",
        "            print(\"부모호출\")\n",
        "\n",
        "    class 자식(부모):\n",
        "        def 호출(self):\n",
        "            print(\"자식호출\")\n",
        "\n",
        "\n",
        "    나 = 자식()\n",
        "    나.호출()"
      ],
      "metadata": {
        "id": "7HSF5PvxQixw"
      }
    },
    {
      "cell_type": "code",
      "source": [
        "class 부모:\n",
        "    def 호출(self):\n",
        "        print(\"부모호출\")\n",
        "\n",
        "class 자식(부모):\n",
        "    def 호출(self):\n",
        "        print(\"자식호출\")\n",
        "\n",
        "\n",
        "나 = 자식()\n",
        "나.호출()"
      ],
      "metadata": {
        "colab": {
          "base_uri": "https://localhost:8080/"
        },
        "id": "tmW6XIPPQR0j",
        "outputId": "8ee62642-a456-4b9b-f560-6631b2b28aba"
      },
      "execution_count": null,
      "outputs": [
        {
          "output_type": "stream",
          "name": "stdout",
          "text": [
            "자식호출\n"
          ]
        }
      ]
    },
    {
      "cell_type": "markdown",
      "source": [
        "# 289 생성자\n",
        "다음 코드의 실행 결과를 예상해보세요.\n",
        "\n",
        "    class 부모:\n",
        "        def __init__(self):\n",
        "            print(\"부모생성\")\n",
        "\n",
        "    class 자식(부모):\n",
        "        def __init__(self):\n",
        "            print(\"자식생성\")\n",
        "            \n",
        "    나 = 자식()"
      ],
      "metadata": {
        "id": "E67baV4pQsOH"
      }
    },
    {
      "cell_type": "code",
      "source": [
        "class 부모:\n",
        "    def __init__(self):\n",
        "        print(\"부모생성\")\n",
        "\n",
        "class 자식(부모):\n",
        "    def __init__(self):\n",
        "        print(\"자식생성\")\n",
        "            \n",
        "    나 = 자식()"
      ],
      "metadata": {
        "colab": {
          "base_uri": "https://localhost:8080/"
        },
        "id": "NPiQScJGQp-b",
        "outputId": "3280c5a7-cfcd-4862-fc78-eb9eeb85994d"
      },
      "execution_count": null,
      "outputs": [
        {
          "output_type": "stream",
          "name": "stdout",
          "text": [
            "자식생성\n"
          ]
        }
      ]
    },
    {
      "cell_type": "markdown",
      "source": [
        "# 290 부모클래스 생성자 호출\n",
        "다음 코드의 실행 결과를 예상해보세요.\n",
        "\n",
        "    class 부모:\n",
        "        def __init__(self):\n",
        "            print(\"부모생성\")\n",
        "\n",
        "    class 자식(부모):\n",
        "        def __init__(self):\n",
        "            print(\"자식생성\")\n",
        "            super().__init__()\n",
        "\n",
        "    나 = 자식()"
      ],
      "metadata": {
        "id": "1qbYl0YrQ5qW"
      }
    },
    {
      "cell_type": "code",
      "source": [
        "class 부모:\n",
        "    def __init__(self):\n",
        "        print(\"부모생성\")\n",
        "\n",
        "class 자식(부모):\n",
        "    def __init__(self):\n",
        "        print(\"자식생성\")\n",
        "        super().__init__()\n",
        "\n",
        "나 = 자식()"
      ],
      "metadata": {
        "id": "TTgE_zPzQ-Rm",
        "outputId": "88a738a8-0efe-464c-9b2f-f3986f746b1e",
        "colab": {
          "base_uri": "https://localhost:8080/"
        }
      },
      "execution_count": null,
      "outputs": [
        {
          "output_type": "stream",
          "name": "stdout",
          "text": [
            "자식생성\n",
            "부모생성\n"
          ]
        }
      ]
    },
    {
      "cell_type": "code",
      "source": [],
      "metadata": {
        "id": "DGjC1LJFQ06g"
      },
      "execution_count": null,
      "outputs": []
    }
  ]
}