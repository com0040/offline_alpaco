{
  "nbformat": 4,
  "nbformat_minor": 0,
  "metadata": {
    "colab": {
      "provenance": [],
      "authorship_tag": "ABX9TyMyKlRL8k4GeG+iAcMpQBxY",
      "include_colab_link": true
    },
    "kernelspec": {
      "name": "python3",
      "display_name": "Python 3"
    },
    "language_info": {
      "name": "python"
    }
  },
  "cells": [
    {
      "cell_type": "markdown",
      "metadata": {
        "id": "view-in-github",
        "colab_type": "text"
      },
      "source": [
        "<a href=\"https://colab.research.google.com/github/com0040/offline_alpaco/blob/main/%ED%8C%8C%EC%9D%B4%EC%8D%AC_%EA%B8%B0%EC%B4%88_291_300.ipynb\" target=\"_parent\"><img src=\"https://colab.research.google.com/assets/colab-badge.svg\" alt=\"Open In Colab\"/></a>"
      ]
    },
    {
      "cell_type": "markdown",
      "source": [
        "# 291 파일 쓰기\n",
        "바탕화면에 '매수종목1.txt' 파일을 생성한 후 다음과 같이 종목코드를 파일에 써보세요.\n",
        "\n",
        "    005930\n",
        "    005380\n",
        "    035420"
      ],
      "metadata": {
        "id": "exx6pE-w0Krr"
      }
    },
    {
      "cell_type": "code",
      "execution_count": 13,
      "metadata": {
        "id": "an3j1IC3RJ3O"
      },
      "outputs": [],
      "source": [
        "f = open(\"매수종목1.txt\", mode=\"wt\", encoding=\"utf-8\")\n",
        "f.write(\"005930\\n\")\n",
        "f.write(\"005380\\n\")\n",
        "f.write(\"035420\")\n",
        "f.close()"
      ]
    },
    {
      "cell_type": "markdown",
      "source": [
        "# 292 파일 쓰기\n",
        "바탕화면에 '매수종목2.txt' 파일을 생성한 후 다음과 같이 종목코드와 종목명을 파일에 써보세요."
      ],
      "metadata": {
        "id": "5et0Ow7b24bv"
      }
    },
    {
      "cell_type": "code",
      "source": [
        "f = open(\"매수종목2.txt\", mode=\"wt\", encoding=\"utf-8\")\n",
        "f.write(\"005930 삼성전자\\n\")\n",
        "f.write(\"005380 현대차\\n\")\n",
        "f.write(\"035420 NAVER\\n\")\n",
        "f.close()"
      ],
      "metadata": {
        "id": "wLjfdS4G1PiI"
      },
      "execution_count": 12,
      "outputs": []
    },
    {
      "cell_type": "markdown",
      "source": [
        "# 293 CSV 파일 쓰기\n",
        "바탕화면에 '매수종목.csv' 파일을 생성한 후 다음과 같이 종목코드와 종목명을 파일에 써보세요.\n",
        "\n",
        "인코딩은 'cp949'를 사용해야합니다."
      ],
      "metadata": {
        "id": "RpRxe9Rk22g3"
      }
    },
    {
      "cell_type": "code",
      "source": [
        "import csv\n",
        "\n",
        "f = open(\"매수종목.csv\", mode=\"wt\", encoding=\"cp949\", newline='')\n",
        "writer = csv.writer(f)\n",
        "writer.writerow([\"종목명\", \"종목코드\", \"PER\"])\n",
        "writer.writerow([\"삼성전자\", \"005930\", 15.59])\n",
        "writer.writerow([\"NAVER\", \"035420\", 55.82])\n",
        "f.close()"
      ],
      "metadata": {
        "id": "4ERPv1Ss2FpW"
      },
      "execution_count": 14,
      "outputs": []
    },
    {
      "cell_type": "markdown",
      "source": [
        "# 294 파일 읽기\n",
        "바탕화면에 생성한 '매수종목1.txt' 파일을 읽은 후 종목코드를 리스트에 저장해보세요.\n",
        "\n",
        "    005930\n",
        "    005380\n",
        "    035420"
      ],
      "metadata": {
        "id": "U7gNRjHC3C-m"
      }
    },
    {
      "cell_type": "code",
      "source": [
        "f = open(\"매수종목1.txt\", encoding=\"utf-8\")\n",
        "lines = f.readlines()   # python list\n",
        "\n",
        "codes = []\n",
        "for line in lines:\n",
        "    code = line.strip()  #'\\n'\n",
        "    codes.append(code)\n",
        "\n",
        "print(codes)\n",
        "\n",
        "f.close()"
      ],
      "metadata": {
        "colab": {
          "base_uri": "https://localhost:8080/"
        },
        "id": "MqswyYVv2-i7",
        "outputId": "28863f19-20c1-4a08-b911-370e8c9d64d4"
      },
      "execution_count": 15,
      "outputs": [
        {
          "output_type": "stream",
          "name": "stdout",
          "text": [
            "['005930', '005380', '035420']\n"
          ]
        }
      ]
    },
    {
      "cell_type": "markdown",
      "source": [
        "# 295 파일 읽기\n",
        "바탕화면에 생성한 '매수종목2.txt' 파일을 읽은 후 종목코드와 종목명을 딕셔너리로 저장해보세요. \n",
        "\n",
        "종목명을 key로 종목명을 value로 저장합니다."
      ],
      "metadata": {
        "id": "2jK9IaQl3IFR"
      }
    },
    {
      "cell_type": "code",
      "source": [
        "f = open(\"매수종목2.txt\", encoding=\"utf-8\")\n",
        "lines = f.readlines()\n",
        "\n",
        "data = {}\n",
        "for line in lines:\n",
        "    # print(line)\n",
        "    line = line.strip()     # '\\n' 제거\n",
        "    k, v = line.split()\n",
        "    print(k, v)\n",
        "    data[k] = v\n",
        "\n",
        "print(data)\n",
        "f.close()"
      ],
      "metadata": {
        "colab": {
          "base_uri": "https://localhost:8080/"
        },
        "id": "bonxWcoy3G55",
        "outputId": "b67e666f-91c1-4de4-d4ff-03a9058c75f5"
      },
      "execution_count": 23,
      "outputs": [
        {
          "output_type": "stream",
          "name": "stdout",
          "text": [
            "005930 삼성전자\n",
            "005380 현대차\n",
            "035420 NAVER\n",
            "{'005930': '삼성전자', '005380': '현대차', '035420': 'NAVER'}\n"
          ]
        }
      ]
    },
    {
      "cell_type": "markdown",
      "source": [
        "# 296 예외처리\n",
        "문자열 PER (Price to Earning Ratio) 값을 실수로 변환할 때 에러가 발생합니다.\n",
        " \n",
        "예외처리를 통해 에러가 발생하는 PER은 0으로 출력하세요.\n",
        "\n",
        "    per = [\"10.31\", \"\", \"8.00\"]\n",
        "\n",
        "    for i in per:\n",
        "        print(float(i))"
      ],
      "metadata": {
        "id": "WETMFHAh3Oz2"
      }
    },
    {
      "cell_type": "code",
      "source": [
        "per = [\"10.31\", \"\", \"8.00\"]\n",
        "\n",
        "for i in per:\n",
        "    try:\n",
        "        print(float(i))\n",
        "    except:\n",
        "        print(0)\n"
      ],
      "metadata": {
        "colab": {
          "base_uri": "https://localhost:8080/"
        },
        "id": "TsmKOwCl3tVJ",
        "outputId": "ee726c49-7877-42bf-e014-053f62b4dd02"
      },
      "execution_count": 25,
      "outputs": [
        {
          "output_type": "stream",
          "name": "stdout",
          "text": [
            "10.31\n",
            "0\n",
            "8.0\n"
          ]
        }
      ]
    },
    {
      "cell_type": "markdown",
      "source": [
        "# 297 예외처리 및 리스트에 저장\n",
        "문자열로 표현된 PER 값을 실수로 변환한 후 이를 새로운 리스트에 저장해보세요.\n",
        "\n",
        "    per = [\"10.31\", \"\", \"8.00\"]\n",
        "\n",
        "    for i in per:\n",
        "        print(float(per))"
      ],
      "metadata": {
        "id": "sIg2i1Ea4GF3"
      }
    },
    {
      "cell_type": "code",
      "source": [
        "per = [\"10.31\", \"\", \"8.00\"]\n",
        "\n",
        "flt =[]\n",
        "\n",
        "for i in per:\n",
        "    try:\n",
        "        print(float(i))\n",
        "        flt.append(i)\n",
        "    except:\n",
        "        print(0)\n",
        "flt"
      ],
      "metadata": {
        "colab": {
          "base_uri": "https://localhost:8080/"
        },
        "id": "pvH88Zv831Gu",
        "outputId": "2af3e5cd-37a3-441d-9c56-f7d24ef5c0e7"
      },
      "execution_count": 27,
      "outputs": [
        {
          "output_type": "stream",
          "name": "stdout",
          "text": [
            "10.31\n",
            "0\n",
            "8.0\n"
          ]
        },
        {
          "output_type": "execute_result",
          "data": {
            "text/plain": [
              "['10.31', '8.00']"
            ]
          },
          "metadata": {},
          "execution_count": 27
        }
      ]
    },
    {
      "cell_type": "markdown",
      "source": [
        "# 298 특정 예외만 처리하기\n",
        "어떤 값을 0으로 나누면 ZeroDivisionError 에러가 발생합니다. \n",
        "\n",
        "try ~ except로 모든 에러에 대해 예외처리하지 말고 ZeroDivisionError 에러만 예외처리해보세요"
      ],
      "metadata": {
        "id": "m_LuZBq_4wab"
      }
    },
    {
      "cell_type": "code",
      "source": [
        "try:\n",
        "    b = 3 / 0\n",
        "except ZeroDivisionError:\n",
        "    print(\"0으로 나누면 안되요\")"
      ],
      "metadata": {
        "id": "BLG8V-Wd4q2q"
      },
      "execution_count": null,
      "outputs": []
    },
    {
      "cell_type": "markdown",
      "source": [
        "# 299 예외의 메시지 출력하기\n",
        "다음과 같은 코드 구조를 사용하면 예외 발생 시 에러 메시지를 변수로 바인딩할 수 있습니다.\n",
        "\n",
        "    try:\n",
        "        실행코드\n",
        "    except 예외 as 변수:\n",
        "        예외처리코드 \n",
        "\n",
        "리스트의 인덱싱에 대해 에러를 출력해보세요.\n",
        "\n",
        "    data = [1, 2, 3]\n",
        "\n",
        "    for i in range(5)\n",
        "        print(data[i])"
      ],
      "metadata": {
        "id": "H7X5-Xkr5DZU"
      }
    },
    {
      "cell_type": "code",
      "source": [
        "data = [1, 2, 3]\n",
        "\n",
        "for i in range(5):\n",
        "    try:\n",
        "        print(data[i])\n",
        "    except IndexError as e:\n",
        "        print(e)"
      ],
      "metadata": {
        "colab": {
          "base_uri": "https://localhost:8080/"
        },
        "id": "foMpqwgz5Ggd",
        "outputId": "4486eb5b-46bf-4f36-cc53-668266bc9ea8"
      },
      "execution_count": 30,
      "outputs": [
        {
          "output_type": "stream",
          "name": "stdout",
          "text": [
            "1\n",
            "2\n",
            "3\n",
            "list index out of range\n",
            "list index out of range\n"
          ]
        }
      ]
    },
    {
      "cell_type": "markdown",
      "source": [
        "# 300 try, except, else, finally 구조 사용해보기\n",
        "파이썬 예외처리는 다음과 같은 구조를 가질 수 있습니다.\n",
        "\n",
        "    try:\n",
        "        실행 코드\n",
        "    except:\n",
        "        예외가 발생했을 때 수행할 코드\n",
        "    else:\n",
        "        예외가 발생하지 않았을 때 수행할 코드\n",
        "    finally:\n",
        "        예외 발생 여부와 상관없이 항상 수행할 코드\n",
        "아래의 코드에 대해서 예외처리를 사용하고 try, except, else, finally에 적당한 코드를 작성해봅시다. else와 finally는 적당한 문구를 print하시면 됩니다.\n",
        "\n",
        "    per = [\"10.31\", \"\", \"8.00\"]\n",
        "\n",
        "    for i in per:\n",
        "        print(float(per))"
      ],
      "metadata": {
        "id": "89E7usel5hKO"
      }
    },
    {
      "cell_type": "code",
      "source": [
        "per = [\"10.31\", \"\", \"8.00\"]\n",
        "\n",
        "for i in per:\n",
        "    try:\n",
        "        print(float(i))\n",
        "    except:\n",
        "        print(0)\n",
        "    else:\n",
        "        print(\"clean data\")\n",
        "    finally:\n",
        "        print(\"변환 완료\")"
      ],
      "metadata": {
        "colab": {
          "base_uri": "https://localhost:8080/"
        },
        "id": "x-0swvP65NtC",
        "outputId": "62a2f4c5-f7c4-4640-f360-b11b6f6dd8ac"
      },
      "execution_count": 31,
      "outputs": [
        {
          "output_type": "stream",
          "name": "stdout",
          "text": [
            "10.31\n",
            "clean data\n",
            "변환 완료\n",
            "0\n",
            "변환 완료\n",
            "8.0\n",
            "clean data\n",
            "변환 완료\n"
          ]
        }
      ]
    },
    {
      "cell_type": "code",
      "source": [],
      "metadata": {
        "id": "rAk0SR1v5rCX"
      },
      "execution_count": null,
      "outputs": []
    }
  ]
}