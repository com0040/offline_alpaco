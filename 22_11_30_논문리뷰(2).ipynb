{
  "nbformat": 4,
  "nbformat_minor": 0,
  "metadata": {
    "colab": {
      "provenance": [],
      "authorship_tag": "ABX9TyPVbCYxGbjw7dhPyFO8yWuD",
      "include_colab_link": true
    },
    "kernelspec": {
      "name": "python3",
      "display_name": "Python 3"
    },
    "language_info": {
      "name": "python"
    }
  },
  "cells": [
    {
      "cell_type": "markdown",
      "metadata": {
        "id": "view-in-github",
        "colab_type": "text"
      },
      "source": [
        "<a href=\"https://colab.research.google.com/github/com0040/offline_alpaco/blob/main/22_11_30_%EB%85%BC%EB%AC%B8%EB%A6%AC%EB%B7%B0(2).ipynb\" target=\"_parent\"><img src=\"https://colab.research.google.com/assets/colab-badge.svg\" alt=\"Open In Colab\"/></a>"
      ]
    },
    {
      "cell_type": "markdown",
      "source": [
        "# 알랙스넷 (2)"
      ],
      "metadata": {
        "id": "MM5nzgTl-SC6"
      }
    },
    {
      "cell_type": "markdown",
      "source": [
        "# 피처사이즈 224 논란"
      ],
      "metadata": {
        "id": "fuFnXE4s5PU2"
      }
    },
    {
      "cell_type": "markdown",
      "source": [
        "227 이 맞다고 가보자. 11*11 stride 4 -> 55칸"
      ],
      "metadata": {
        "id": "evRA-UYC5QY2"
      }
    },
    {
      "cell_type": "markdown",
      "source": [
        "# 패딩 잡고 넘어가기"
      ],
      "metadata": {
        "id": "KtxT8uL88WSh"
      }
    },
    {
      "cell_type": "markdown",
      "source": [
        "필터크기 와 패딩 몇개인지 -> 머리에 새겨"
      ],
      "metadata": {
        "id": "mb7ebi8S8ZJg"
      }
    },
    {
      "cell_type": "markdown",
      "source": [
        "오버래핑하려고 홀수를 만들었다."
      ],
      "metadata": {
        "id": "LUxOkG30-P1L"
      }
    },
    {
      "cell_type": "markdown",
      "source": [
        "셀 수 있어야 구현가능하다.\n",
        "\n",
        "케라스는 익숙해진다."
      ],
      "metadata": {
        "id": "U97p9uPm--J9"
      }
    },
    {
      "cell_type": "markdown",
      "source": [
        "# 어그멘테이션"
      ],
      "metadata": {
        "id": "W48gkk_aHpGx"
      }
    },
    {
      "cell_type": "markdown",
      "source": [
        "2048배 가능  - 벗 : 상호의존적\n",
        "\n",
        "트레인 + 테스트 어그맨테이션 = 치팅\n",
        "\n",
        "테스트셋만 따로 하는 것은 가능 -> 검증을 많이 하겠다\n",
        "\n",
        "데이콘-케글 = 제출횟수 제한 / 부계정 (아이디 다르게) - 이럴때 쑬수있다."
      ],
      "metadata": {
        "id": "xxqmoQ2AHrgF"
      }
    },
    {
      "cell_type": "markdown",
      "source": [
        "# average predictions"
      ],
      "metadata": {
        "id": "cbgInEG8LUL8"
      }
    },
    {
      "cell_type": "markdown",
      "source": [
        "앙상블느낌 -> 편향방지 = 오버핏 방지"
      ],
      "metadata": {
        "id": "4-Xv4_jGLYOz"
      }
    },
    {
      "cell_type": "markdown",
      "source": [
        "# 4) 드롭아웃"
      ],
      "metadata": {
        "id": "B-Y_MtJZMbkU"
      }
    },
    {
      "cell_type": "markdown",
      "source": [
        "뉴런 단위로 날린다\n",
        "\n",
        "서로 의존하지 못하게 한다.\n",
        "\n",
        "테스트때는 모두 사용한다.(학습할 때만 누락)"
      ],
      "metadata": {
        "id": "RpAK02N_NKUd"
      }
    },
    {
      "cell_type": "markdown",
      "source": [
        "# 5) 디테일 러닝"
      ],
      "metadata": {
        "id": "_umnN0PxUCMZ"
      }
    },
    {
      "cell_type": "markdown",
      "source": [
        "가중치 / 그래디언트 \n",
        "\n",
        "웨이트 디케이(규제 비슷) / 모멘텀(이전 그래디언트의 영향)"
      ],
      "metadata": {
        "id": "vqJIjKM3Yza9"
      }
    },
    {
      "cell_type": "markdown",
      "source": [
        "리스트릭트 볼츠만 머신 \n",
        "\n",
        "- 입력넣어서 다시 입력 나오게 (x = y 본질상) 이므로\n",
        "\n",
        "근데 논문에서는 자비에 초기화 비슷하게 사용"
      ],
      "metadata": {
        "id": "n2ZYRYGdUFV7"
      }
    },
    {
      "cell_type": "markdown",
      "source": [],
      "metadata": {
        "id": "dseooPV7YxEW"
      }
    },
    {
      "cell_type": "code",
      "execution_count": null,
      "metadata": {
        "id": "hXXBschx2EnJ"
      },
      "outputs": [],
      "source": []
    }
  ]
}