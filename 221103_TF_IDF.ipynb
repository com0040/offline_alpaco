{
  "nbformat": 4,
  "nbformat_minor": 0,
  "metadata": {
    "colab": {
      "provenance": [],
      "authorship_tag": "ABX9TyMyfrHbF7TcEHDnhMjuJzqw",
      "include_colab_link": true
    },
    "kernelspec": {
      "name": "python3",
      "display_name": "Python 3"
    },
    "language_info": {
      "name": "python"
    }
  },
  "cells": [
    {
      "cell_type": "markdown",
      "metadata": {
        "id": "view-in-github",
        "colab_type": "text"
      },
      "source": [
        "<a href=\"https://colab.research.google.com/github/com0040/offline_alpaco/blob/main/221103_TF_IDF.ipynb\" target=\"_parent\"><img src=\"https://colab.research.google.com/assets/colab-badge.svg\" alt=\"Open In Colab\"/></a>"
      ]
    },
    {
      "cell_type": "markdown",
      "source": [
        "###  TF-IDF\n",
        "백 오브 워드 의 단점을 극복하기 위해\n",
        "\n",
        "Term Frequency - Inverse Document Frequency\n",
        "\n",
        "단어 빈도수 - 역 문서 단어수 : ? \n",
        "\n",
        "오히려 자주등장하면 분류에 방해가 될 수 있음 - 가중치 먹음\n",
        "\n",
        "    나한테 밥먹자 -> 그린라이트? / 다른 사람한테도 햇는가 안했는가 중요\n",
        "\n",
        "- 로그\n",
        "\n",
        "우상향 / 로그 1 = 0\n",
        "\n",
        "증가(천장뚫어) / x > 0 \n",
        "\n",
        "---\n",
        "\n",
        "TF - IDF = tf * idf -> \n",
        "\n",
        "---\n",
        "\n",
        "- 유사도 \n",
        "\n",
        "    - 이제 행간 비교를 하려면? : 같은 단어 몇개 나왔나 비교\n",
        "\n",
        "\n",
        "1. 코사인 유사도 : 코사인 - 각도에 따라 \n",
        "\n",
        "    - 다른 요소가 같은방향(벡터) 일때 유사도를 측정 가능하네\n",
        "\n",
        "2. 유클리드 거리 유사도 : 처음 들어\n",
        "\n",
        "    - 루트[(빼서 제곱) + (빼서 제곱)]\n",
        "\n",
        "3. 자카드 거리\n",
        "\n",
        "    - 합집합 - 교집합"
      ],
      "metadata": {
        "id": "oq9_zl1RJkVc"
      }
    },
    {
      "cell_type": "code",
      "execution_count": null,
      "metadata": {
        "id": "Tv5uLCM2JfhH"
      },
      "outputs": [],
      "source": []
    }
  ]
}