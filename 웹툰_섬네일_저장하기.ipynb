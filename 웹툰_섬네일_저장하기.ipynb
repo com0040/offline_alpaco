{
  "nbformat": 4,
  "nbformat_minor": 0,
  "metadata": {
    "colab": {
      "provenance": [],
      "authorship_tag": "ABX9TyN8hYbWyWEQ59nUtk17m0iO",
      "include_colab_link": true
    },
    "kernelspec": {
      "name": "python3",
      "display_name": "Python 3"
    },
    "language_info": {
      "name": "python"
    }
  },
  "cells": [
    {
      "cell_type": "markdown",
      "metadata": {
        "id": "view-in-github",
        "colab_type": "text"
      },
      "source": [
        "<a href=\"https://colab.research.google.com/github/com0040/offline_alpaco/blob/main/%EC%9B%B9%ED%88%B0_%EC%84%AC%EB%84%A4%EC%9D%BC_%EC%A0%80%EC%9E%A5%ED%95%98%EA%B8%B0.ipynb\" target=\"_parent\"><img src=\"https://colab.research.google.com/assets/colab-badge.svg\" alt=\"Open In Colab\"/></a>"
      ]
    },
    {
      "cell_type": "markdown",
      "source": [
        " 이미지는 html안에 없다. \n",
        "\n",
        "- 이미지의 주소값만 있다."
      ],
      "metadata": {
        "id": "g8diEzSPyFzV"
      }
    },
    {
      "cell_type": "code",
      "source": [],
      "metadata": {
        "id": "zjcCoIu20VSE"
      },
      "execution_count": null,
      "outputs": []
    },
    {
      "cell_type": "markdown",
      "source": [
        "이미지를 가지고있는 url을 requests.get을 하면 \n",
        "\n",
        "- 이미지가 저장됨\n",
        "\n",
        "    - 검정색은 정보가없다.\n",
        "\n",
        "    - == 이미지를 가져오는데 성공한 것이다.\n",
        "\n",
        "    - soup 속에 넣어서 select\n",
        "\n",
        "    "
      ],
      "metadata": {
        "id": "vzesN6IRyyF0"
      }
    },
    {
      "cell_type": "code",
      "source": [],
      "metadata": {
        "id": "Lh7z3rW4x_Ej"
      },
      "execution_count": null,
      "outputs": []
    },
    {
      "cell_type": "markdown",
      "source": [
        "이미지크롤링 이해\n",
        "\n",
        "- 1단계 : get - 이미지가 있는 페이지를 가져오기\n",
        "\n",
        "- 2단계 : select - 이미지 태그를 가져오기\n",
        "        \n",
        "    - 2.1 단계 : 이미지 scr값 가져오기\n",
        "\n",
        "- 3단계 : get(src) - 이미지 가져오기"
      ],
      "metadata": {
        "id": "jGqyu6EAzzow"
      }
    },
    {
      "cell_type": "code",
      "execution_count": null,
      "metadata": {
        "id": "uWdvyeowxOp8"
      },
      "outputs": [],
      "source": [
        "# 이미지 크롤링\n",
        "import requests # 서버 접근 라이브러리\n",
        "from bs4 import BeautifulSoup # html에서 select을 사용하기 위해\n",
        "import pandas as pd # dataframe / csv\n",
        "\n",
        "img_srcs=[]\n",
        "\n",
        "url = 'https://comic.naver.com/webtoon/weekday' # 주소 복사\n",
        "resp = requests.get(url)\n",
        "soup = BeautifulSoup(resp.content, 'lxml') # 이 페이지에서 모든태그\n",
        "\n",
        "img_tags = soup.select('div.thumb img')\n",
        "\n",
        "for img_tag in img_tags:\n",
        "    img_srcs.append(img_tag['src'])\n",
        "\n",
        "# img_srcs"
      ]
    },
    {
      "cell_type": "code",
      "source": [
        "!mkdir thumb_image"
      ],
      "metadata": {
        "id": "YU1XRI0PCZh7"
      },
      "execution_count": null,
      "outputs": []
    },
    {
      "cell_type": "code",
      "source": [
        "# img_src를 돌면서 이미지를 가져오기\n",
        "for idx, src in enumerate(img_srcs): # 이름을 다르게 하려면 인덱스를 사용해보자\n",
        "    resp = requests.get(src)\n",
        "\n",
        "    with open('thumb_image/thumg_hogu_{:03}.jpg'.format(idx),'wb') as f:   # 형식 지정 출력 방법 1 \n",
        "    # 자릿수 {:3} = 스페이스로 채우기 / {:03} = 0으로 채우기\n",
        "    # with open(f'thumg_hogu_{idx}.jpg','wb') as f:  # format 2\n",
        "    # with open('thumg_hogu '+ str(idx) +'.jpg','wb') as f: # 기본 -> 자릿수 문제\n",
        "        f.write(resp.content)\n",
        "\n",
        "    "
      ],
      "metadata": {
        "id": "1PpQ1usL1PhH"
      },
      "execution_count": null,
      "outputs": []
    },
    {
      "cell_type": "code",
      "source": [
        "# 이미지 크롤링.ver 2\n",
        "import requests # 서버 접근 라이브러리\n",
        "from bs4 import BeautifulSoup # html에서 select을 사용하기 위해\n",
        "import pandas as pd # dataframe / csv\n",
        "\n",
        "!mkdir thumb_image\n",
        "\n",
        "img_srcs=[]\n",
        "\n",
        "url = 'https://comic.naver.com/webtoon/weekday' # 주소 복사\n",
        "resp = requests.get(url)\n",
        "soup = BeautifulSoup(resp.content, 'lxml') # 이 페이지에서 모든태그\n",
        "\n",
        "img_tags = soup.select('div.thumb img')\n",
        "\n",
        "for img_tag in img_tags:\n",
        "    resp = requests.get(img_tag['src'])\n",
        "\n",
        "    with open('{}.jpg'.format(img_tag['title']),'wb') as f:\n",
        "        f.write(resp.content)\n",
        "\n",
        "    break"
      ],
      "metadata": {
        "id": "bIxoX_hZ7P4h"
      },
      "execution_count": null,
      "outputs": []
    },
    {
      "cell_type": "code",
      "source": [
        "# 진법페이지"
      ],
      "metadata": {
        "id": "jbHfS66TALp2"
      },
      "execution_count": null,
      "outputs": []
    }
  ]
}